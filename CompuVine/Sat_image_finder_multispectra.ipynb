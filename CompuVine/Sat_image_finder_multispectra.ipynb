{
 "cells": [
  {
   "cell_type": "code",
   "execution_count": 1,
   "metadata": {},
   "outputs": [],
   "source": [
    "# You'll probably want to set our data rate higher for this notebook. \n",
    "# follow: http://stackoverflow.com/questions/43288550/iopub-data-rate-exceeded-when-viewing-image-in-jupyter-notebook"
   ]
  },
  {
   "cell_type": "markdown",
   "metadata": {},
   "source": [
    "# Setup \n",
    "Let's setup our environment. We'll pull in the the usual gis suspects and setup a leaflet map, read our API keys from a json file, and setup our Planet client"
   ]
  },
  {
   "cell_type": "code",
   "execution_count": 2,
   "metadata": {},
   "outputs": [],
   "source": [
    "# See requirements.txt to set up your dev environment.\n",
    "import time\n",
    "import sys\n",
    "import os\n",
    "import os.path\n",
    "import json\n",
    "import scipy\n",
    "import urllib\n",
    "import datetime \n",
    "from datetime import timedelta\n",
    "from datetime import datetime\n",
    "import urllib3\n",
    "import rasterio\n",
    "import subprocess\n",
    "import numpy as np\n",
    "import pandas as pd\n",
    "import seaborn as sns\n",
    "from osgeo import gdal\n",
    "from planet import api\n",
    "from planet.api import filters\n",
    "from traitlets import link\n",
    "from pygeocoder import Geocoder\n",
    "import reverse_geocoder as rg\n",
    "import rasterio.tools.mask as rio_mask\n",
    "from shapely.geometry import mapping, shape\n",
    "from IPython.display import display, Image, HTML\n",
    "import matplotlib.pyplot as plt\n",
    "import matplotlib.image as mpimg\n",
    "urllib3.disable_warnings()\n",
    "from ipyleaflet import (\n",
    "    Map,\n",
    "    Marker,\n",
    "    TileLayer, ImageOverlay,\n",
    "    Polyline, Polygon, Rectangle, Circle, CircleMarker,\n",
    "    GeoJSON,\n",
    "    DrawControl\n",
    ")\n",
    "\n",
    "\n"
   ]
  },
  {
   "cell_type": "code",
   "execution_count": 3,
   "metadata": {},
   "outputs": [],
   "source": [
    "import logging\n",
    "import logging.config\n",
    "\n",
    "LOG_FILENAME = 'root'\n",
    "\n",
    "logging.config.fileConfig('logger.conf')\n",
    "logger = logging.getLogger(LOG_FILENAME)\n",
    "\n",
    "fh = logging.FileHandler('quake_scraper_{:%Y-%m-%d}.log'.format(datetime.now()))\n",
    "formatter = logging.Formatter('%(asctime)s | %(levelname)-8s | %(lineno)04d | %(message)s')\n",
    "fh.setFormatter(formatter)\n",
    "\n",
    "logger.addHandler(fh)\n",
    "logger.debug(\"Quake_scraper\")"
   ]
  },
  {
   "cell_type": "markdown",
   "metadata": {},
   "source": [
    "Here is a list of the different satellite resources from Planet:\n",
    "- PSScene3Band\t- PlanetScope Scenes\n",
    "- PSScene4Band\t- PlanetScope Scenes\n",
    "- PSOrthoTile   - PlanetScope OrthoTiles\n",
    "- REOrthoTile\t- RapidEye OrthoTiles\n",
    "- REScene\t    - RapidEye Scenes (unorthorectified strips)\n",
    "- SkySatScene\t- SkySat Scenes\n",
    "- Landsat8L1G\t- Landsat8 Scenes\n",
    "- Sentinel2L1C\t- Copernicus Sentinel-2 Scenes"
   ]
  },
  {
   "cell_type": "code",
   "execution_count": 4,
   "metadata": {},
   "outputs": [
    {
     "name": "stdout",
     "output_type": "stream",
     "text": [
      "Use city, country or lat,long? Enter city or coords city\n",
      "Enter the City name: kathmandu\n",
      "Enter the Country name: nepal\n",
      "Year (eg. 2015): 2015\n",
      "Month number(eg. 1 = january ): 4\n",
      "Day (eg.6): 25\n"
     ]
    }
   ],
   "source": [
    "#This little fancy piece of code will query the coordinates from entering the city and country\n",
    "location = input(\"Use city, country or lat,long? Enter city or coords \")\n",
    "while True:\n",
    "    if(not location == \"city\" and not location == \"coords\"):\n",
    "        print(\"Please enter a valid answer.\")\n",
    "        location = input(\"Use city, country or lat,long? Enter city or coords \")\n",
    "        continue\n",
    "    else:\n",
    "        break\n",
    "\n",
    "if (location == \"city\"):        \n",
    "    cityName = input(\"Enter the City name: \")\n",
    "    while True:\n",
    "        if(not cityName.isalpha()):\n",
    "            print(\"Please enter a valid city.\")\n",
    "            cityName = input(\"Enter the City name: \")\n",
    "            continue\n",
    "        else:\n",
    "            break\n",
    "    nationName = input(\"Enter the Country name: \")\n",
    "    coords_raw = Geocoder.geocode(cityName,nationName)\n",
    "    coords_str = str(coords_raw.coordinates)\n",
    "    translation_table = dict.fromkeys(map(ord, '()'), None)\n",
    "    coords = coords_str.translate(translation_table)\n",
    "    lat = '%2f' % float(coords.split(',')[0])\n",
    "    long = '%2f' % float(coords.split(',')[1])\n",
    "else:\n",
    "    lat = float(input(\"Enter the latitude: \"))\n",
    "    while True:\n",
    "        if(not isinstance(lat, float)):\n",
    "            print(\"Please enter a valid latitude.\")\n",
    "            lat = input(\"Enter the latitude: \")\n",
    "            continue\n",
    "        else:\n",
    "            break\n",
    "    long = float(input(\"Enter the longitude: \"))\n",
    "    while True:\n",
    "        if(not isinstance(long, float)):\n",
    "            print(\"Please enter a valid longitude.\")\n",
    "            lat = input(\"Enter the longitude: \")\n",
    "            continue\n",
    "        else:\n",
    "            break\n",
    "    coordinates = (lat, long)\n",
    "    results = rg.search(coordinates) # default mode = 2\n",
    "    cityName = (results[0]['name'])\n",
    "    nationName = results[0]['cc']\n",
    "\n",
    "year = int(input(\"Year (eg. 2015): \"))\n",
    "month = int(input(\"Month number(eg. 1 = january ): \"))\n",
    "day = int(input(\"Day (eg.6): \"))\n",
    "sats = ['PSScene3Band','PSScene4Band','PSOrthoTile','REOrthoTile','REScene','SkySatScene','Landsat8L1G','Sentinel2L1C']\n"
   ]
  },
  {
   "cell_type": "code",
   "execution_count": 5,
   "metadata": {},
   "outputs": [
    {
     "name": "stdout",
     "output_type": "stream",
     "text": [
      "PSScene3Band: 1\n",
      "PSScene4Band: 2\n",
      "PSOrthoTile: 3\n",
      "REOrthoTile: 4\n",
      "REScene: 5\n",
      "SkySatScene: 6\n",
      "Landsat8L1G: 7\n",
      "Sentinel2L1C: 8\n",
      "\n",
      "Which satellite data? Type in a number corresponding to it: 8\n",
      "27.717245 85.323960\n",
      "Sentinel2L1C\n"
     ]
    }
   ],
   "source": [
    "print ('PSScene3Band: 1\\nPSScene4Band: 2\\nPSOrthoTile: 3\\nREOrthoTile: 4\\nREScene: 5\\nSkySatScene: 6\\nLandsat8L1G: 7\\nSentinel2L1C: 8\\n')\n",
    "sat_data_type = int(input(\"Which satellite data? Type in a number corresponding to it: \"))\n",
    "while True:\n",
    "    if(not isinstance(sat_data_type, int) or sat_data_type < 1 or sat_data_type > 8):\n",
    "        print(\"Please enter a valid answer.\")\n",
    "        sat_data_type = input(\"Which satellite data? Type in a number corresponding to it: \")\n",
    "        continue\n",
    "    else:\n",
    "        break\n",
    "\n",
    "sat_use = sats[sat_data_type-1]\n",
    "\n",
    "print (lat, long)\n",
    "print (sat_use)"
   ]
  },
  {
   "cell_type": "code",
   "execution_count": 6,
   "metadata": {},
   "outputs": [
    {
     "name": "stdout",
     "output_type": "stream",
     "text": [
      "2018-08-11 09:17:51,111 | INFO     | <ipython-input-6-c598e4b0a1c0>-<module>-0001 | Scraping starting for: kathmandu, nepal\n",
      "2018-08-11 09:17:51,180 | INFO     | <ipython-input-6-c598e4b0a1c0>-<module>-0002 | Coordinates: 27.717245, 85.323960\n",
      "2018-08-11 09:17:51,182 | INFO     | <ipython-input-6-c598e4b0a1c0>-<module>-0003 | Date of Quake: 2015-4-25\n",
      "2018-08-11 09:17:51,187 | INFO     | <ipython-input-6-c598e4b0a1c0>-<module>-0004 | Sat Source: Sentinel2L1C\n"
     ]
    }
   ],
   "source": [
    "logger.info('Scraping starting for: '+cityName+', '+nationName)\n",
    "logger.info('Coordinates: '+str(lat)+', '+str(long))\n",
    "logger.info('Date of Quake: '+str(year)+'-'+str(month)+'-'+str(day))\n",
    "logger.info('Sat Source: '+sat_use)\n"
   ]
  },
  {
   "cell_type": "code",
   "execution_count": 7,
   "metadata": {},
   "outputs": [
    {
     "name": "stdout",
     "output_type": "stream",
     "text": [
      "/Users/rkhan/Python/STR_Scraper/Quake_scraper\n"
     ]
    }
   ],
   "source": [
    "#This changes the directory to the current one running the notebook and then adds then goes into the folder tiffData. chdir changes the directory. getcwd finds the directory\n",
    "main_folder = 'Quake_scraper'\n",
    "current_path = os.getcwd()\n",
    "orig_path = current_path\n",
    "head, tail = os.path.split(current_path)\n",
    "while(not tail == main_folder):\n",
    "    head, tail = os.path.split(current_path)\n",
    "    if (os.path.basename(head)== main_folder):\n",
    "        orig_path = head\n",
    "        os.chdir(orig_path)\n",
    "        break\n",
    "    elif (os.path.basename(head)==\"Coding Experiments\"):\n",
    "        os.chdir(os.path.join(head, main_folder))\n",
    "        orig_path = os.getcwd()\n",
    "        break\n",
    "    else:\n",
    "        current_path = head\n",
    "        orig_path = current_path\n",
    "print (orig_path)\n",
    "\n",
    "\n",
    "%matplotlib inline\n",
    "# will pick up api_key via environment variable PL_API_KEY\n",
    "# but can be specified using `api_key` named argument\n",
    "api_keys = json.load(open(\"apikeys.json\",'r'))\n",
    "client = api.ClientV1(api_key=api_keys[\"PLANET_API_KEY\"])\n",
    "\n",
    "save_path = os.path.join(orig_path,'tiffFiles')\n",
    "os.chdir(save_path)"
   ]
  },
  {
   "cell_type": "markdown",
   "metadata": {},
   "source": [
    "# Make a slippy map to get GeoJSON\n",
    "\n",
    "* The planet API allows you to query using a [geojson](https://en.wikipedia.org/wiki/GeoJSON) which is a special flavor of json.\n",
    "* We are going to create a slippy map using leaflet and apply the Planet 2017 Q1 mosaic as the basemap. This requires our api key.\n",
    "* We are going to add a special draw handler that shoves a draw region into a object so we get the geojson.\n",
    "* If you don't want to do this, or need a fixed query try [geojson.io](http://geojson.io/#map=2/20.0/0.0)\n",
    "* To install and run:\n",
    "```\n",
    "$ pip install ipyleaflet\n",
    "$ jupyter nbextension enable --py --sys-prefix ipyleaflet\n",
    "$ jupyter nbextension enable --py --sys-prefix widgetsnbextension\n",
    "```\n",
    "* [More information](https://github.com/ellisonbg/ipyleaflet)\n",
    "\n",
    "RISHI's NOTES: Once all the packages are installed, then the map will show up. Draw on the map itself your own polygons. Or as is said you can create your own fixed query. But when you create the polygon then the actioncount will go up.\n",
    "Learned from this website: https://stackoverflow.com/questions/39741287/google-maps-using-python"
   ]
  },
  {
   "cell_type": "code",
   "execution_count": 8,
   "metadata": {
    "scrolled": true
   },
   "outputs": [
    {
     "name": "stdout",
     "output_type": "stream",
     "text": [
      "2018-08-11 09:17:56,411 | INFO     | <ipython-input-8-28c2a45ae56d>-<module>-0057 | GEOJSON ALREADY CREATED - MOVE TO NEXT CELL\n",
      "\n",
      "GEOJSON ALREADY CREATED - MOVE TO NEXT CELL\n",
      "\n"
     ]
    },
    {
     "data": {
      "application/vnd.jupyter.widget-view+json": {
       "model_id": "bf44203264594201acb286f7bd76fdb0",
       "version_major": 2,
       "version_minor": 0
      },
      "text/plain": [
       "Map(basemap={'url': 'https://{s}.tile.openstreetmap.org/{z}/{x}/{y}.png', 'max_zoom': 19, 'attribution': 'Map …"
      ]
     },
     "metadata": {},
     "output_type": "display_data"
    }
   ],
   "source": [
    "# Basemap Mosaic (v1 API)\n",
    "mosaicsSeries = 'global_quarterly_2016q1_mosaic'\n",
    "# Planet tile server base URL (Planet Explorer Mosaics Tiles)\n",
    "mosaicsTilesURL_base = 'https://tiles0.planet.com/experimental/mosaics/planet-tiles/' + mosaicsSeries + '/gmap/{z}/{x}/{y}.png'\n",
    "# Planet tile server url\n",
    "mosaicsTilesURL = mosaicsTilesURL_base + '?api_key=' + api_keys[\"PLANET_API_KEY\"]\n",
    "# Map Settings \n",
    "# Define colors\n",
    "colors = {'blue': \"#009da5\"}\n",
    "# Define initial map center lat/long\n",
    "#NEXT STEP WOULD BE TO CAL A CITY AND RETRIEVE THE COORDINATES, Then use the name later on.\n",
    "center = [lat,long]\n",
    "# Define initial map zoom level\n",
    "zoom = 13\n",
    "# Set Map Tiles URL\n",
    "planetMapTiles = TileLayer(url= mosaicsTilesURL)\n",
    "# Create the map\n",
    "m = Map(\n",
    "    center=center, \n",
    "    zoom=zoom,\n",
    "    default_tiles = planetMapTiles # Uncomment to use Planet.com basemap\n",
    ")\n",
    "# Define the draw tool type options\n",
    "polygon = {'shapeOptions': {'color': colors['blue']}}\n",
    "rectangle = {'shapeOptions': {'color': colors['blue']}} \n",
    "\n",
    "# Create the draw controls\n",
    "# @see https://github.com/ellisonbg/ipyleaflet/blob/master/ipyleaflet/leaflet.py#L293\n",
    "dc = DrawControl(\n",
    "    polygon = polygon,\n",
    "    rectangle = rectangle\n",
    ")\n",
    "# Initialize an action counter variable\n",
    "actionCount = 0\n",
    "AOIs = {}\n",
    "\n",
    "# Register the draw controls handler\n",
    "def handle_draw(self, action, geo_json):\n",
    "    # Increment the action counter\n",
    "    global actionCount\n",
    "    actionCount += 1\n",
    "    print (actionCount)\n",
    "    # Remove the `style` property from the GeoJSON\n",
    "    geo_json['properties'] = {}\n",
    "    # Convert geo_json output to a string and prettify (indent & replace ' with \")\n",
    "    geojsonStr = json.dumps(geo_json, indent=2).replace(\"'\", '\"')\n",
    "    AOIs[actionCount] = json.loads(geojsonStr)\n",
    "\n",
    "tiffFiles_path = os.path.join(orig_path, \"tiffFiles\")\n",
    "os.chdir(tiffFiles_path)\n",
    "jsonFile = cityName+\".geojson\"\n",
    "geojson_exists = False;\n",
    "if (os.path.exists(os.path.join(os.getcwd(),jsonFile))):\n",
    "    actionCount += 1\n",
    "    with open(os.path.join(os.getcwd(),jsonFile)) as f:\n",
    "        AOIs[actionCount]= json.load(f)\n",
    "    logger.info(\"GEOJSON ALREADY CREATED - MOVE TO NEXT CELL\\n\")        \n",
    "    print (\"GEOJSON ALREADY CREATED - MOVE TO NEXT CELL\\n\")\n",
    "    geojson_exists = True;\n",
    "else:      \n",
    "# Attach the draw handler to the draw controls `on_draw` event\n",
    "    logger.info(\"Draw area of interest on map and a geojson will be generated\\n\")        \n",
    "    print (\"Draw area of interest on map and a geojson will be generated\\n\")\n",
    "    os.chdir(orig_path)\n",
    "    dc.on_draw(handle_draw)\n",
    "    m.add_control(dc)\n",
    "    geojson_exists = False;\n",
    "m "
   ]
  },
  {
   "cell_type": "markdown",
   "metadata": {},
   "source": [
    "# Querying the Planet API.\n",
    "* First we'll grab our geojson area of interest (AOI) and use it to construct a query.\n",
    "* We'll then build a search to search that area looking for PSScene3Band\n",
    "* We have lots of products: RapidEye, PlanetScope (PS) 3 and 4 band, LandSat, and Sentinel are all possible.\n",
    "* Once we have our query, we'll do the search. We will then iterate over the results, slurp up the data, and put them in a pandas data frame for easy sorting.\n",
    "* We'll print the first few so we're sure it works. "
   ]
  },
  {
   "cell_type": "code",
   "execution_count": 9,
   "metadata": {},
   "outputs": [
    {
     "name": "stdout",
     "output_type": "stream",
     "text": [
      "{'type': 'Polygon', 'coordinates': [[[85.25802612304688, 27.64247745172872], [85.44479370117188, 27.64247745172872], [85.44479370117188, 27.742188491115126], [85.25802612304688, 27.742188491115126], [85.25802612304688, 27.64247745172872]]]}\n",
      "2\n"
     ]
    },
    {
     "data": {
      "text/html": [
       "<div>\n",
       "<style scoped>\n",
       "    .dataframe tbody tr th:only-of-type {\n",
       "        vertical-align: middle;\n",
       "    }\n",
       "\n",
       "    .dataframe tbody tr th {\n",
       "        vertical-align: top;\n",
       "    }\n",
       "\n",
       "    .dataframe thead th {\n",
       "        text-align: right;\n",
       "    }\n",
       "</style>\n",
       "<table border=\"1\" class=\"dataframe\">\n",
       "  <thead>\n",
       "    <tr style=\"text-align: right;\">\n",
       "      <th></th>\n",
       "    </tr>\n",
       "  </thead>\n",
       "  <tbody>\n",
       "  </tbody>\n",
       "</table>\n",
       "</div>"
      ],
      "text/plain": [
       "Empty DataFrame\n",
       "Columns: []\n",
       "Index: []"
      ]
     },
     "metadata": {},
     "output_type": "display_data"
    },
    {
     "name": "stdout",
     "output_type": "stream",
     "text": [
      "0\n"
     ]
    }
   ],
   "source": [
    "import datetime\n",
    "print (AOIs[1])\n",
    "if (geojson_exists):\n",
    "    myAOI = AOIs[1]\n",
    "else:\n",
    "    myAOI = AOIs[1][\"geometry\"]\n",
    "\n",
    "aoi_file =cityName+\".geojson\" \n",
    "# write our input AOI to a geojson file.\n",
    "with open(aoi_file,\"w\") as f:\n",
    "    f.write(json.dumps(myAOI))\n",
    "    \n",
    "# build a query using the AOI and\n",
    "# a cloud_cover filter that excludes 'cloud free' scenes\n",
    "os.chdir(orig_path)\n",
    "quakeDay = datetime.datetime(year, month, day)\n",
    "old = datetime.datetime(year, month, day) - timedelta(weeks=26)\n",
    "now = datetime.datetime(year, month, day) + timedelta(weeks=26)\n",
    "query = filters.and_filter(\n",
    "    filters.geom_filter(myAOI),\n",
    "    filters.range_filter('cloud_cover', lt=50),\n",
    "    #filters.date_range('acquired', gt=old)\n",
    "    filters.date_range('acquired', gt=old, lt=now)\n",
    ")\n",
    "\n",
    "# build a request for only PlanetScope imagery\n",
    "for i in sats:\n",
    "    request= filters.build_search_request(\n",
    "    query, item_types=[i]\n",
    "    #query, item_types=[sats]\n",
    ")\n",
    "\n",
    "print (len(request))\n",
    "\n",
    "\n",
    "# if you don't have an API key configured, this will raise an exception\n",
    "result = client.quick_search(request)\n",
    "scenes = []\n",
    "planet_map = {}\n",
    "for item in result.items_iter(limit=3000):\n",
    "    planet_map[item['id']]=item\n",
    "    props = item['properties']\n",
    "    props[\"id\"] = item['id']\n",
    "    props[\"geometry\"] = item[\"geometry\"]\n",
    "    props[\"thumbnail\"] = item[\"_links\"][\"thumbnail\"]\n",
    "    scenes.append(props)\n",
    "scenes = pd.DataFrame(data=scenes)\n",
    "display(scenes)\n",
    "print (len(scenes))"
   ]
  },
  {
   "cell_type": "markdown",
   "metadata": {},
   "source": [
    "# Doing a search with multiple sat sources\n",
    "* This is pretty much the exact same as the above cell except that it loops through all the possible sat sources and finds the scenes that match within the time constraint. Here the time constraint was 2 weeks. It was able to provide more data than if there was only one satellite. However the issues were:\n",
    "    1. There was not data available for every day\n",
    "    2. On the days with multiple data, it would be for different times which could confuse the ML on training"
   ]
  },
  {
   "cell_type": "code",
   "execution_count": 10,
   "metadata": {},
   "outputs": [
    {
     "name": "stdout",
     "output_type": "stream",
     "text": [
      "{'type': 'Polygon', 'coordinates': [[[85.25802612304688, 27.64247745172872], [85.44479370117188, 27.64247745172872], [85.44479370117188, 27.742188491115126], [85.25802612304688, 27.742188491115126], [85.25802612304688, 27.64247745172872]]]}\n"
     ]
    },
    {
     "data": {
      "text/html": [
       "<div>\n",
       "<style scoped>\n",
       "    .dataframe tbody tr th:only-of-type {\n",
       "        vertical-align: middle;\n",
       "    }\n",
       "\n",
       "    .dataframe tbody tr th {\n",
       "        vertical-align: top;\n",
       "    }\n",
       "\n",
       "    .dataframe thead th {\n",
       "        text-align: right;\n",
       "    }\n",
       "</style>\n",
       "<table border=\"1\" class=\"dataframe\">\n",
       "  <thead>\n",
       "    <tr style=\"text-align: right;\">\n",
       "      <th></th>\n",
       "      <th>acquired</th>\n",
       "      <th>anomalous_pixels</th>\n",
       "      <th>black_fill</th>\n",
       "      <th>catalog_id</th>\n",
       "      <th>cloud_cover</th>\n",
       "      <th>columns</th>\n",
       "      <th>data_type</th>\n",
       "      <th>epsg_code</th>\n",
       "      <th>geometry</th>\n",
       "      <th>grid_cell</th>\n",
       "      <th>...</th>\n",
       "      <th>satellite_id</th>\n",
       "      <th>strip_id</th>\n",
       "      <th>sun_azimuth</th>\n",
       "      <th>sun_elevation</th>\n",
       "      <th>thumbnail</th>\n",
       "      <th>updated</th>\n",
       "      <th>usable_data</th>\n",
       "      <th>view_angle</th>\n",
       "      <th>wrs_path</th>\n",
       "      <th>wrs_row</th>\n",
       "    </tr>\n",
       "  </thead>\n",
       "  <tbody>\n",
       "    <tr>\n",
       "      <th>0</th>\n",
       "      <td>2015-05-01T05:49:08Z</td>\n",
       "      <td>0.25</td>\n",
       "      <td>0.25</td>\n",
       "      <td>20534328</td>\n",
       "      <td>0.0000</td>\n",
       "      <td>5000</td>\n",
       "      <td>NaN</td>\n",
       "      <td>32645.0</td>\n",
       "      <td>{'coordinates': [[[85.04930703852183, 27.61228...</td>\n",
       "      <td>4551807</td>\n",
       "      <td>...</td>\n",
       "      <td>RapidEye-5</td>\n",
       "      <td>20534271</td>\n",
       "      <td>151.705540</td>\n",
       "      <td>75.975030</td>\n",
       "      <td>https://api.planet.com/data/v1/item-types/REOr...</td>\n",
       "      <td>2018-01-20T01:41:19Z</td>\n",
       "      <td>0.750</td>\n",
       "      <td>0.15320</td>\n",
       "      <td>NaN</td>\n",
       "      <td>NaN</td>\n",
       "    </tr>\n",
       "    <tr>\n",
       "      <th>1</th>\n",
       "      <td>2015-05-01T05:49:08Z</td>\n",
       "      <td>0.50</td>\n",
       "      <td>0.50</td>\n",
       "      <td>20534272</td>\n",
       "      <td>0.0000</td>\n",
       "      <td>5000</td>\n",
       "      <td>NaN</td>\n",
       "      <td>32645.0</td>\n",
       "      <td>{'coordinates': [[[85.29298544982827, 27.57887...</td>\n",
       "      <td>4551808</td>\n",
       "      <td>...</td>\n",
       "      <td>RapidEye-5</td>\n",
       "      <td>20534271</td>\n",
       "      <td>152.581160</td>\n",
       "      <td>76.072210</td>\n",
       "      <td>https://api.planet.com/data/v1/item-types/REOr...</td>\n",
       "      <td>2018-01-20T02:03:14Z</td>\n",
       "      <td>0.500</td>\n",
       "      <td>0.15320</td>\n",
       "      <td>NaN</td>\n",
       "      <td>NaN</td>\n",
       "    </tr>\n",
       "    <tr>\n",
       "      <th>2</th>\n",
       "      <td>2015-05-06T05:54:05Z</td>\n",
       "      <td>0.11</td>\n",
       "      <td>0.05</td>\n",
       "      <td>20605424</td>\n",
       "      <td>0.0600</td>\n",
       "      <td>5000</td>\n",
       "      <td>NaN</td>\n",
       "      <td>32645.0</td>\n",
       "      <td>{'coordinates': [[[85.28187945912983, 27.54066...</td>\n",
       "      <td>4551807</td>\n",
       "      <td>...</td>\n",
       "      <td>RapidEye-5</td>\n",
       "      <td>20605370</td>\n",
       "      <td>154.249070</td>\n",
       "      <td>77.855380</td>\n",
       "      <td>https://api.planet.com/data/v1/item-types/REOr...</td>\n",
       "      <td>2018-01-20T00:41:15Z</td>\n",
       "      <td>0.890</td>\n",
       "      <td>-9.74318</td>\n",
       "      <td>NaN</td>\n",
       "      <td>NaN</td>\n",
       "    </tr>\n",
       "    <tr>\n",
       "      <th>3</th>\n",
       "      <td>2015-05-06T05:54:04Z</td>\n",
       "      <td>0.97</td>\n",
       "      <td>0.97</td>\n",
       "      <td>20605371</td>\n",
       "      <td>0.0000</td>\n",
       "      <td>5000</td>\n",
       "      <td>NaN</td>\n",
       "      <td>32645.0</td>\n",
       "      <td>{'coordinates': [[[85.29290842072804, 27.58383...</td>\n",
       "      <td>4551808</td>\n",
       "      <td>...</td>\n",
       "      <td>RapidEye-5</td>\n",
       "      <td>20605370</td>\n",
       "      <td>155.267060</td>\n",
       "      <td>77.943750</td>\n",
       "      <td>https://api.planet.com/data/v1/item-types/REOr...</td>\n",
       "      <td>2018-01-20T00:44:35Z</td>\n",
       "      <td>0.030</td>\n",
       "      <td>-9.74318</td>\n",
       "      <td>NaN</td>\n",
       "      <td>NaN</td>\n",
       "    </tr>\n",
       "    <tr>\n",
       "      <th>4</th>\n",
       "      <td>2015-05-02T05:52:23Z</td>\n",
       "      <td>0.18</td>\n",
       "      <td>0.00</td>\n",
       "      <td>20554427</td>\n",
       "      <td>0.1800</td>\n",
       "      <td>5000</td>\n",
       "      <td>NaN</td>\n",
       "      <td>32645.0</td>\n",
       "      <td>{'coordinates': [[[85.0466273, 27.7631986], [8...</td>\n",
       "      <td>4551807</td>\n",
       "      <td>...</td>\n",
       "      <td>RapidEye-1</td>\n",
       "      <td>20554346</td>\n",
       "      <td>154.288840</td>\n",
       "      <td>76.589050</td>\n",
       "      <td>https://api.planet.com/data/v1/item-types/REOr...</td>\n",
       "      <td>2018-01-20T00:07:00Z</td>\n",
       "      <td>0.820</td>\n",
       "      <td>3.08792</td>\n",
       "      <td>NaN</td>\n",
       "      <td>NaN</td>\n",
       "    </tr>\n",
       "    <tr>\n",
       "      <th>5</th>\n",
       "      <td>2015-05-02T05:52:23Z</td>\n",
       "      <td>0.04</td>\n",
       "      <td>0.00</td>\n",
       "      <td>20554347</td>\n",
       "      <td>0.0400</td>\n",
       "      <td>5000</td>\n",
       "      <td>NaN</td>\n",
       "      <td>32645.0</td>\n",
       "      <td>{'coordinates': [[[85.2900705, 27.7664241], [8...</td>\n",
       "      <td>4551808</td>\n",
       "      <td>...</td>\n",
       "      <td>RapidEye-1</td>\n",
       "      <td>20554346</td>\n",
       "      <td>155.218410</td>\n",
       "      <td>76.677460</td>\n",
       "      <td>https://api.planet.com/data/v1/item-types/REOr...</td>\n",
       "      <td>2018-01-20T00:44:15Z</td>\n",
       "      <td>0.960</td>\n",
       "      <td>3.08792</td>\n",
       "      <td>NaN</td>\n",
       "      <td>NaN</td>\n",
       "    </tr>\n",
       "    <tr>\n",
       "      <th>6</th>\n",
       "      <td>2015-04-30T05:45:56Z</td>\n",
       "      <td>0.49</td>\n",
       "      <td>0.00</td>\n",
       "      <td>20519946</td>\n",
       "      <td>0.4900</td>\n",
       "      <td>5000</td>\n",
       "      <td>NaN</td>\n",
       "      <td>32645.0</td>\n",
       "      <td>{'coordinates': [[[85.0466273, 27.7631986], [8...</td>\n",
       "      <td>4551807</td>\n",
       "      <td>...</td>\n",
       "      <td>RapidEye-4</td>\n",
       "      <td>20519872</td>\n",
       "      <td>149.361100</td>\n",
       "      <td>75.337680</td>\n",
       "      <td>https://api.planet.com/data/v1/item-types/REOr...</td>\n",
       "      <td>2018-01-20T01:58:42Z</td>\n",
       "      <td>0.510</td>\n",
       "      <td>0.34999</td>\n",
       "      <td>NaN</td>\n",
       "      <td>NaN</td>\n",
       "    </tr>\n",
       "    <tr>\n",
       "      <th>7</th>\n",
       "      <td>2015-04-30T05:45:55Z</td>\n",
       "      <td>0.41</td>\n",
       "      <td>0.00</td>\n",
       "      <td>20519873</td>\n",
       "      <td>0.4100</td>\n",
       "      <td>5000</td>\n",
       "      <td>NaN</td>\n",
       "      <td>32645.0</td>\n",
       "      <td>{'coordinates': [[[85.2900705, 27.7664241], [8...</td>\n",
       "      <td>4551808</td>\n",
       "      <td>...</td>\n",
       "      <td>RapidEye-4</td>\n",
       "      <td>20519872</td>\n",
       "      <td>150.186240</td>\n",
       "      <td>75.442650</td>\n",
       "      <td>https://api.planet.com/data/v1/item-types/REOr...</td>\n",
       "      <td>2018-01-20T02:09:11Z</td>\n",
       "      <td>0.590</td>\n",
       "      <td>0.34999</td>\n",
       "      <td>NaN</td>\n",
       "      <td>NaN</td>\n",
       "    </tr>\n",
       "    <tr>\n",
       "      <th>8</th>\n",
       "      <td>2015-04-30T05:46:02.333335Z</td>\n",
       "      <td>0.00</td>\n",
       "      <td>0.00</td>\n",
       "      <td>20519872_3</td>\n",
       "      <td>0.1457</td>\n",
       "      <td>15388</td>\n",
       "      <td>NaN</td>\n",
       "      <td>NaN</td>\n",
       "      <td>{'coordinates': [[[84.86574114407367, 27.78104...</td>\n",
       "      <td>NaN</td>\n",
       "      <td>...</td>\n",
       "      <td>RapidEye-4</td>\n",
       "      <td>20519872</td>\n",
       "      <td>148.679017</td>\n",
       "      <td>75.576523</td>\n",
       "      <td>https://api.planet.com/data/v1/item-types/RESc...</td>\n",
       "      <td>2018-02-04T14:13:12Z</td>\n",
       "      <td>1.000</td>\n",
       "      <td>0.34999</td>\n",
       "      <td>NaN</td>\n",
       "      <td>NaN</td>\n",
       "    </tr>\n",
       "    <tr>\n",
       "      <th>9</th>\n",
       "      <td>2015-04-30T05:45:49.289856Z</td>\n",
       "      <td>0.00</td>\n",
       "      <td>0.00</td>\n",
       "      <td>20519872_2</td>\n",
       "      <td>0.6102</td>\n",
       "      <td>15374</td>\n",
       "      <td>NaN</td>\n",
       "      <td>NaN</td>\n",
       "      <td>{'coordinates': [[[85.05703060445988, 28.57859...</td>\n",
       "      <td>NaN</td>\n",
       "      <td>...</td>\n",
       "      <td>RapidEye-4</td>\n",
       "      <td>20519872</td>\n",
       "      <td>148.679017</td>\n",
       "      <td>75.576523</td>\n",
       "      <td>https://api.planet.com/data/v1/item-types/RESc...</td>\n",
       "      <td>2018-02-04T14:10:18Z</td>\n",
       "      <td>1.000</td>\n",
       "      <td>0.34999</td>\n",
       "      <td>NaN</td>\n",
       "      <td>NaN</td>\n",
       "    </tr>\n",
       "    <tr>\n",
       "      <th>10</th>\n",
       "      <td>2015-05-01T05:49:06.565218Z</td>\n",
       "      <td>0.00</td>\n",
       "      <td>0.00</td>\n",
       "      <td>20534271_4</td>\n",
       "      <td>0.0194</td>\n",
       "      <td>8067</td>\n",
       "      <td>NaN</td>\n",
       "      <td>NaN</td>\n",
       "      <td>{'coordinates': [[[84.76624469776047, 28.13242...</td>\n",
       "      <td>NaN</td>\n",
       "      <td>...</td>\n",
       "      <td>RapidEye-5</td>\n",
       "      <td>20534271</td>\n",
       "      <td>154.237557</td>\n",
       "      <td>74.852676</td>\n",
       "      <td>https://api.planet.com/data/v1/item-types/RESc...</td>\n",
       "      <td>2018-02-04T14:02:15Z</td>\n",
       "      <td>1.000</td>\n",
       "      <td>0.15320</td>\n",
       "      <td>NaN</td>\n",
       "      <td>NaN</td>\n",
       "    </tr>\n",
       "    <tr>\n",
       "      <th>11</th>\n",
       "      <td>2015-05-06T05:54:05.333335Z</td>\n",
       "      <td>0.00</td>\n",
       "      <td>0.00</td>\n",
       "      <td>20605370_3</td>\n",
       "      <td>0.0195</td>\n",
       "      <td>15349</td>\n",
       "      <td>NaN</td>\n",
       "      <td>NaN</td>\n",
       "      <td>{'coordinates': [[[84.63099826205558, 28.17347...</td>\n",
       "      <td>NaN</td>\n",
       "      <td>...</td>\n",
       "      <td>RapidEye-5</td>\n",
       "      <td>20605370</td>\n",
       "      <td>154.772249</td>\n",
       "      <td>77.211870</td>\n",
       "      <td>https://api.planet.com/data/v1/item-types/RESc...</td>\n",
       "      <td>2018-02-04T13:57:54Z</td>\n",
       "      <td>1.000</td>\n",
       "      <td>-9.74318</td>\n",
       "      <td>NaN</td>\n",
       "      <td>NaN</td>\n",
       "    </tr>\n",
       "    <tr>\n",
       "      <th>12</th>\n",
       "      <td>2015-05-02T05:52:19.376814Z</td>\n",
       "      <td>0.00</td>\n",
       "      <td>0.00</td>\n",
       "      <td>20554346_4</td>\n",
       "      <td>0.2393</td>\n",
       "      <td>15371</td>\n",
       "      <td>NaN</td>\n",
       "      <td>NaN</td>\n",
       "      <td>{'coordinates': [[[85.10705317889088, 28.39232...</td>\n",
       "      <td>NaN</td>\n",
       "      <td>...</td>\n",
       "      <td>RapidEye-1</td>\n",
       "      <td>20554346</td>\n",
       "      <td>156.926788</td>\n",
       "      <td>75.838366</td>\n",
       "      <td>https://api.planet.com/data/v1/item-types/RESc...</td>\n",
       "      <td>2018-02-04T13:41:10Z</td>\n",
       "      <td>1.000</td>\n",
       "      <td>3.08792</td>\n",
       "      <td>NaN</td>\n",
       "      <td>NaN</td>\n",
       "    </tr>\n",
       "    <tr>\n",
       "      <th>13</th>\n",
       "      <td>2015-04-30T04:47:35.719363Z</td>\n",
       "      <td>0.00</td>\n",
       "      <td>NaN</td>\n",
       "      <td>NaN</td>\n",
       "      <td>0.3020</td>\n",
       "      <td>7711</td>\n",
       "      <td>L1T</td>\n",
       "      <td>32645.0</td>\n",
       "      <td>{'coordinates': [[[84.51916046219803, 28.47549...</td>\n",
       "      <td>NaN</td>\n",
       "      <td>...</td>\n",
       "      <td>Landsat8</td>\n",
       "      <td>NaN</td>\n",
       "      <td>117.200000</td>\n",
       "      <td>65.700000</td>\n",
       "      <td>https://api.planet.com/data/v1/item-types/Land...</td>\n",
       "      <td>2017-04-26T10:38:53Z</td>\n",
       "      <td>0.669</td>\n",
       "      <td>0.00000</td>\n",
       "      <td>141.0</td>\n",
       "      <td>41.0</td>\n",
       "    </tr>\n",
       "    <tr>\n",
       "      <th>14</th>\n",
       "      <td>2015-04-14T04:47:43.965331Z</td>\n",
       "      <td>0.00</td>\n",
       "      <td>NaN</td>\n",
       "      <td>NaN</td>\n",
       "      <td>0.8400</td>\n",
       "      <td>7711</td>\n",
       "      <td>L1T</td>\n",
       "      <td>32645.0</td>\n",
       "      <td>{'coordinates': [[[84.53263900807592, 28.47546...</td>\n",
       "      <td>NaN</td>\n",
       "      <td>...</td>\n",
       "      <td>Landsat8</td>\n",
       "      <td>NaN</td>\n",
       "      <td>125.400000</td>\n",
       "      <td>61.900000</td>\n",
       "      <td>https://api.planet.com/data/v1/item-types/Land...</td>\n",
       "      <td>2017-04-26T10:33:34Z</td>\n",
       "      <td>0.667</td>\n",
       "      <td>0.00000</td>\n",
       "      <td>141.0</td>\n",
       "      <td>41.0</td>\n",
       "    </tr>\n",
       "  </tbody>\n",
       "</table>\n",
       "<p>15 rows × 32 columns</p>\n",
       "</div>"
      ],
      "text/plain": [
       "                       acquired  anomalous_pixels  black_fill  catalog_id  \\\n",
       "0          2015-05-01T05:49:08Z              0.25        0.25    20534328   \n",
       "1          2015-05-01T05:49:08Z              0.50        0.50    20534272   \n",
       "2          2015-05-06T05:54:05Z              0.11        0.05    20605424   \n",
       "3          2015-05-06T05:54:04Z              0.97        0.97    20605371   \n",
       "4          2015-05-02T05:52:23Z              0.18        0.00    20554427   \n",
       "5          2015-05-02T05:52:23Z              0.04        0.00    20554347   \n",
       "6          2015-04-30T05:45:56Z              0.49        0.00    20519946   \n",
       "7          2015-04-30T05:45:55Z              0.41        0.00    20519873   \n",
       "8   2015-04-30T05:46:02.333335Z              0.00        0.00  20519872_3   \n",
       "9   2015-04-30T05:45:49.289856Z              0.00        0.00  20519872_2   \n",
       "10  2015-05-01T05:49:06.565218Z              0.00        0.00  20534271_4   \n",
       "11  2015-05-06T05:54:05.333335Z              0.00        0.00  20605370_3   \n",
       "12  2015-05-02T05:52:19.376814Z              0.00        0.00  20554346_4   \n",
       "13  2015-04-30T04:47:35.719363Z              0.00         NaN         NaN   \n",
       "14  2015-04-14T04:47:43.965331Z              0.00         NaN         NaN   \n",
       "\n",
       "    cloud_cover  columns data_type  epsg_code  \\\n",
       "0        0.0000     5000       NaN    32645.0   \n",
       "1        0.0000     5000       NaN    32645.0   \n",
       "2        0.0600     5000       NaN    32645.0   \n",
       "3        0.0000     5000       NaN    32645.0   \n",
       "4        0.1800     5000       NaN    32645.0   \n",
       "5        0.0400     5000       NaN    32645.0   \n",
       "6        0.4900     5000       NaN    32645.0   \n",
       "7        0.4100     5000       NaN    32645.0   \n",
       "8        0.1457    15388       NaN        NaN   \n",
       "9        0.6102    15374       NaN        NaN   \n",
       "10       0.0194     8067       NaN        NaN   \n",
       "11       0.0195    15349       NaN        NaN   \n",
       "12       0.2393    15371       NaN        NaN   \n",
       "13       0.3020     7711       L1T    32645.0   \n",
       "14       0.8400     7711       L1T    32645.0   \n",
       "\n",
       "                                             geometry grid_cell   ...    \\\n",
       "0   {'coordinates': [[[85.04930703852183, 27.61228...   4551807   ...     \n",
       "1   {'coordinates': [[[85.29298544982827, 27.57887...   4551808   ...     \n",
       "2   {'coordinates': [[[85.28187945912983, 27.54066...   4551807   ...     \n",
       "3   {'coordinates': [[[85.29290842072804, 27.58383...   4551808   ...     \n",
       "4   {'coordinates': [[[85.0466273, 27.7631986], [8...   4551807   ...     \n",
       "5   {'coordinates': [[[85.2900705, 27.7664241], [8...   4551808   ...     \n",
       "6   {'coordinates': [[[85.0466273, 27.7631986], [8...   4551807   ...     \n",
       "7   {'coordinates': [[[85.2900705, 27.7664241], [8...   4551808   ...     \n",
       "8   {'coordinates': [[[84.86574114407367, 27.78104...       NaN   ...     \n",
       "9   {'coordinates': [[[85.05703060445988, 28.57859...       NaN   ...     \n",
       "10  {'coordinates': [[[84.76624469776047, 28.13242...       NaN   ...     \n",
       "11  {'coordinates': [[[84.63099826205558, 28.17347...       NaN   ...     \n",
       "12  {'coordinates': [[[85.10705317889088, 28.39232...       NaN   ...     \n",
       "13  {'coordinates': [[[84.51916046219803, 28.47549...       NaN   ...     \n",
       "14  {'coordinates': [[[84.53263900807592, 28.47546...       NaN   ...     \n",
       "\n",
       "   satellite_id  strip_id sun_azimuth sun_elevation  \\\n",
       "0    RapidEye-5  20534271  151.705540     75.975030   \n",
       "1    RapidEye-5  20534271  152.581160     76.072210   \n",
       "2    RapidEye-5  20605370  154.249070     77.855380   \n",
       "3    RapidEye-5  20605370  155.267060     77.943750   \n",
       "4    RapidEye-1  20554346  154.288840     76.589050   \n",
       "5    RapidEye-1  20554346  155.218410     76.677460   \n",
       "6    RapidEye-4  20519872  149.361100     75.337680   \n",
       "7    RapidEye-4  20519872  150.186240     75.442650   \n",
       "8    RapidEye-4  20519872  148.679017     75.576523   \n",
       "9    RapidEye-4  20519872  148.679017     75.576523   \n",
       "10   RapidEye-5  20534271  154.237557     74.852676   \n",
       "11   RapidEye-5  20605370  154.772249     77.211870   \n",
       "12   RapidEye-1  20554346  156.926788     75.838366   \n",
       "13     Landsat8       NaN  117.200000     65.700000   \n",
       "14     Landsat8       NaN  125.400000     61.900000   \n",
       "\n",
       "                                            thumbnail               updated  \\\n",
       "0   https://api.planet.com/data/v1/item-types/REOr...  2018-01-20T01:41:19Z   \n",
       "1   https://api.planet.com/data/v1/item-types/REOr...  2018-01-20T02:03:14Z   \n",
       "2   https://api.planet.com/data/v1/item-types/REOr...  2018-01-20T00:41:15Z   \n",
       "3   https://api.planet.com/data/v1/item-types/REOr...  2018-01-20T00:44:35Z   \n",
       "4   https://api.planet.com/data/v1/item-types/REOr...  2018-01-20T00:07:00Z   \n",
       "5   https://api.planet.com/data/v1/item-types/REOr...  2018-01-20T00:44:15Z   \n",
       "6   https://api.planet.com/data/v1/item-types/REOr...  2018-01-20T01:58:42Z   \n",
       "7   https://api.planet.com/data/v1/item-types/REOr...  2018-01-20T02:09:11Z   \n",
       "8   https://api.planet.com/data/v1/item-types/RESc...  2018-02-04T14:13:12Z   \n",
       "9   https://api.planet.com/data/v1/item-types/RESc...  2018-02-04T14:10:18Z   \n",
       "10  https://api.planet.com/data/v1/item-types/RESc...  2018-02-04T14:02:15Z   \n",
       "11  https://api.planet.com/data/v1/item-types/RESc...  2018-02-04T13:57:54Z   \n",
       "12  https://api.planet.com/data/v1/item-types/RESc...  2018-02-04T13:41:10Z   \n",
       "13  https://api.planet.com/data/v1/item-types/Land...  2017-04-26T10:38:53Z   \n",
       "14  https://api.planet.com/data/v1/item-types/Land...  2017-04-26T10:33:34Z   \n",
       "\n",
       "    usable_data  view_angle wrs_path wrs_row  \n",
       "0         0.750     0.15320      NaN     NaN  \n",
       "1         0.500     0.15320      NaN     NaN  \n",
       "2         0.890    -9.74318      NaN     NaN  \n",
       "3         0.030    -9.74318      NaN     NaN  \n",
       "4         0.820     3.08792      NaN     NaN  \n",
       "5         0.960     3.08792      NaN     NaN  \n",
       "6         0.510     0.34999      NaN     NaN  \n",
       "7         0.590     0.34999      NaN     NaN  \n",
       "8         1.000     0.34999      NaN     NaN  \n",
       "9         1.000     0.34999      NaN     NaN  \n",
       "10        1.000     0.15320      NaN     NaN  \n",
       "11        1.000    -9.74318      NaN     NaN  \n",
       "12        1.000     3.08792      NaN     NaN  \n",
       "13        0.669     0.00000    141.0    41.0  \n",
       "14        0.667     0.00000    141.0    41.0  \n",
       "\n",
       "[15 rows x 32 columns]"
      ]
     },
     "metadata": {},
     "output_type": "display_data"
    },
    {
     "name": "stdout",
     "output_type": "stream",
     "text": [
      "15\n"
     ]
    }
   ],
   "source": [
    "import datetime\n",
    "print (AOIs[1])\n",
    "if (geojson_exists):\n",
    "    myAOI = AOIs[1]\n",
    "else:\n",
    "    myAOI = AOIs[1][\"geometry\"]\n",
    "\n",
    "aoi_file =cityName+\".geojson\" \n",
    "# write our input AOI to a geojson file.\n",
    "with open(aoi_file,\"w\") as f:\n",
    "    f.write(json.dumps(myAOI))\n",
    "    \n",
    "# build a query using the AOI and\n",
    "# a cloud_cover filter that excludes 'cloud free' scenes\n",
    "os.chdir(orig_path)\n",
    "quakeDay = datetime.datetime(year, month, day)\n",
    "old = datetime.datetime(year, month, day) - timedelta(weeks=2)\n",
    "now = datetime.datetime(year, month, day) + timedelta(weeks=2)\n",
    "query = filters.and_filter(\n",
    "    filters.geom_filter(myAOI),\n",
    "    filters.range_filter('cloud_cover', lt=50),\n",
    "    #filters.date_range('acquired', gt=old)\n",
    "    filters.date_range('acquired', gt=old, lt=now)\n",
    ")\n",
    "\n",
    "# build a request for only PlanetScope imagery\n",
    "scenes = []\n",
    "planet_map = {}\n",
    "for i in sats:\n",
    "    request= filters.build_search_request(\n",
    "    query, item_types=[i]\n",
    "    )\n",
    "    result = client.quick_search(request)\n",
    "    for item in result.items_iter(limit=3000):\n",
    "        planet_map[item['id']]=item\n",
    "        props = item['properties']\n",
    "        props[\"id\"] = item['id']\n",
    "        props[\"geometry\"] = item[\"geometry\"]\n",
    "        props[\"thumbnail\"] = item[\"_links\"][\"thumbnail\"]\n",
    "        scenes.append(props)\n",
    "    #query, item_types=[sats]\n",
    "\n",
    "\n",
    "# if you don't have an API key configured, this will raise an exception\n",
    "scenes = pd.DataFrame(data=scenes)\n",
    "display(scenes)\n",
    "print (len(scenes))"
   ]
  },
  {
   "cell_type": "markdown",
   "metadata": {},
   "source": [
    "# Cleanup\n",
    "* The data we got back is good, but we need some more information\n",
    "* We got back big scenes, but we only care about our area of interest. The scene may not cover the whole area of interest.\n",
    "* We can use the [Shapely](http://toblerity.org/shapely/manual.html) library to quickly figure out how much each scene overlaps our AOI\n",
    "* We will convert our AOI and the geometry of each scene to calculate overlap using a shapely call.\n",
    "* The returned acquisition, publish, and update times are strings, we'll convert them to datatime objects so we wan search."
   ]
  },
  {
   "cell_type": "code",
   "execution_count": null,
   "metadata": {},
   "outputs": [],
   "source": [
    "# now let's clean up the datetime stuff\n",
    "# make a shapely shape from our aoi\n",
    "city = shape(myAOI)\n",
    "footprints = []\n",
    "overlaps = []\n",
    "# go through the geometry from our api call, convert to a shape and calculate overlap area.\n",
    "# also save the shape for safe keeping\n",
    "for footprint in scenes[\"geometry\"].tolist():\n",
    "    s = shape(footprint)\n",
    "    footprints.append(s)\n",
    "    overlap = 100.0*(city.intersection(s).area / city.area)\n",
    "    overlaps.append(overlap)\n",
    "# take our lists and add them back to our dataframe\n",
    "scenes['overlap'] = pd.Series(overlaps, index=scenes.index)\n",
    "scenes['footprint'] = pd.Series(footprints, index=scenes.index)\n",
    "# now make sure pandas knows about our date/time columns.\n",
    "scenes[\"acquired\"] = pd.to_datetime(scenes[\"acquired\"])\n",
    "scenes[\"published\"] = pd.to_datetime(scenes[\"published\"])\n",
    "scenes[\"updated\"] = pd.to_datetime(scenes[\"updated\"])\n",
    "scenes.head()"
   ]
  },
  {
   "cell_type": "markdown",
   "metadata": {},
   "source": [
    "# Filtering our search using pandas.\n",
    "* Using our dataframe we will filter the scenes to just what we want.\n",
    "* First we want scenes with less than 10% clouds.\n",
    "* Second we want standard quality images. Test images may not be high quality.\n",
    "* Third well only look for scenes since January.\n",
    "* Finally we will create a new data frame with our queries and print the results. \n",
    "\n",
    "Rishi's notes: Had to change datetime.date to datetime.datetime, possibly due to the fact that the format is in a datetime and not just a date"
   ]
  },
  {
   "cell_type": "code",
   "execution_count": null,
   "metadata": {},
   "outputs": [],
   "source": [
    "# Now let's get it down to just good, recent, clear scenes\n",
    "clear = scenes['cloud_cover']<0.1\n",
    "#good = scenes['quality_category']==\"standard\"\n",
    "#recent = scenes[\"acquired\"] > \"%s-%s-%s\" % (str(start_year),str(start_month),str(start_day))\n",
    "no_quake = scenes[\"acquired\"] < quakeDay\n",
    "#partial_coverage = scenes[\"overlap\"] > 30\n",
    "before_scenes = scenes[(clear&no_quake)]\n",
    "display(before_scenes)\n",
    "print (len(before_scenes))\n",
    "\n",
    "# Now let's get it down to just good, recent, clear scenes\n",
    "#good = scenes['quality_category']==\"standard\"\n",
    "quake = scenes[\"acquired\"] > quakeDay\n",
    "#recent = scenes[\"acquired\"] > \"%s-%s-%s\" % (str(start_year),str(start_month),str(start_day))\n",
    "#full_coverage = scenes[\"overlap\"] >= 60\n",
    "after_scenes = scenes[(clear&quake)]\n",
    "display(after_scenes)\n",
    "print (len(after_scenes))\n",
    "\n",
    "all_scenes = scenes[(clear)]\n",
    "display (all_scenes)"
   ]
  },
  {
   "cell_type": "markdown",
   "metadata": {},
   "source": [
    "# Visualizing scene foot prints overlap with our AOI\n",
    "* We know these scenes intersect with our AOI, but we aren't quite sure about the geometry.\n",
    "* We are going to plot our scene footprints and original AOI on our slippy map.\n",
    "* To do this we create GeoJson objects with properties. "
   ]
  },
  {
   "cell_type": "code",
   "execution_count": null,
   "metadata": {},
   "outputs": [],
   "source": [
    "# first create a list of colors\n",
    "colors = [\"#ff0000\",\"#00ff00\",\"#0000ff\",\"#ffff00\",\"#ff00ff\",\"#00ffff\"]\n",
    "# grab our scenes from the geometry/footprint geojson\n",
    "footprints = all_scenes[\"geometry\"].tolist()\n",
    "# for each footprint/color combo\n",
    "for footprint,color in zip(footprints,colors):\n",
    "    # create the leaflet object\n",
    "    feat = {'geometry':footprint,\"properties\":{\n",
    "            'style':{'color': color,'fillColor': color,'fillOpacity': 0.2,'weight': 1}},\n",
    "            'type':u\"Feature\"}\n",
    "    # convert to geojson\n",
    "    gjson = GeoJSON(data=feat)\n",
    "    # add it our map\n",
    "    m.add_layer(gjson)\n",
    "# now we will draw our original AOI on top \n",
    "feat = {'geometry':myAOI,\"properties\":{\n",
    "            'style':{'color': \"#FFFFFF\",'fillColor': \"#FFFFFF\",'fillOpacity': 0.5,'weight': 1}},\n",
    "            'type':u\"Feature\"}\n",
    "gjson = GeoJSON(data=feat)\n",
    "m.add_layer(gjson)   \n",
    "m \n"
   ]
  },
  {
   "cell_type": "code",
   "execution_count": null,
   "metadata": {},
   "outputs": [],
   "source": []
  },
  {
   "cell_type": "markdown",
   "metadata": {},
   "source": [
    "# Product Activation and Downloading\n",
    "* There are two things we need to know, the satellite type (asset) and image type (product).\n",
    "* Full resolution uncompressed satellite images are *big* and there are lots of ways to view them.\n",
    "* For this reason Planet generally keeps images in their native format and only processes them on customer requests. There is some caching of processed scenes, but this is the exception not the rule.\n",
    "* All images must be activated prior to downloading and this can take some time based on demand.\n",
    "* Additionally we need to determine what sort of product we want to download. Generally speaking there are three kinds of scenes:\n",
    "    * Analytic - multi-band full resolution images that have not been processed. These are like raw files for DSLR camers.\n",
    "    * Visual - these are color corrected rectified tifs. If you are just starting out this is your best call.\n",
    "    * UDM - Usable data mask. This mask can be used to find bad pixels and columns and to mask out areas with clouds.\n",
    "    "
   ]
  },
  {
   "cell_type": "code",
   "execution_count": null,
   "metadata": {
    "scrolled": false
   },
   "outputs": [],
   "source": [
    "#def get_products(client, scene_id, asset_type='PSScene3Band'): \n",
    "def get_products(client, scene_id, asset_type=sat_use): \n",
    "    \"\"\"\n",
    "    Ask the client to return the available products for a \n",
    "    given scene and asset type. Returns a list of product \n",
    "    strings\n",
    "    \"\"\"\n",
    "    out = client.get_assets_by_id(asset_type,scene_id)\n",
    "    temp = out.get()\n",
    "    return temp.keys()\n",
    "\n",
    "#def activate_product(client, scene_id, asset_type=\"PSScene3Band\",product=\"analytic\"):\n",
    "def activate_product(client, scene_id, asset_type=sat_use,product=\"analytic\"):\n",
    "    \"\"\"\n",
    "    Activate a product given a scene, an asset type, and a product.\n",
    "    \n",
    "    On success return the return value of the API call and an activation object\n",
    "    \"\"\"\n",
    "    temp = client.get_assets_by_id(asset_type,scene_id)  \n",
    "    products = temp.get()\n",
    "    if( product in products.keys() ):\n",
    "        return client.activate(products[product]),products[product]\n",
    "    else:\n",
    "        return None \n",
    "\n",
    "def download_and_save(client,product):\n",
    "    \"\"\"\n",
    "    Given a client and a product activation object download the asset. \n",
    "    This will save the tiff file in the local directory and return its \n",
    "    file name. \n",
    "    \"\"\"\n",
    "    out = client.download(product)\n",
    "    fp = out.get_body()\n",
    "    fp.write()\n",
    "    return fp.name\n",
    "\n",
    "def scenes_are_active(scene_list):\n",
    "    \"\"\"\n",
    "    Check if all of the resources in a given list of\n",
    "    scene activation objects is read for downloading.\n",
    "    \"\"\"\n",
    "    retVal = True\n",
    "    for scene in scene_list:\n",
    "        if scene[\"status\"] != \"active\":\n",
    "            print (\"{} is not ready.\".format(scene))\n",
    "            return False\n",
    "    return True"
   ]
  },
  {
   "cell_type": "markdown",
   "metadata": {},
   "source": [
    "# Scenes ACTIVATE!\n",
    "* Given our good scenes list we will convert the data frame \"id\" column into a list and activate every item in that list. \n",
    "* For this example we are going to default to using a 3Band visual product but I have included some four band methods to help you out.\n",
    "* Activation usually takes about 5-15 minutes so get some coffee."
   ]
  },
  {
   "cell_type": "code",
   "execution_count": null,
   "metadata": {},
   "outputs": [],
   "source": [
    "to_get = before_scenes[\"id\"].tolist()\n",
    "activated = []\n",
    "# for each scene to get\n",
    "sat_dict= {\"PSScene3Band\":\"Visual\",\"PSScene4Band\":\"analytic\",\"PSOrthoTile\":\"Visual\",\"REOrthoTile\":\"visual\",\"REScene\":\"Visual\",\"SkySatScene\":\"ortho_visual\",\"Landsat8L1G\":\"Visual\",\"Sentinel2L1C\":\"Visual\"}\n",
    "def reactivateScenes(temp_array):\n",
    "    check_array = []\n",
    "    to_get = before_scenes[\"id\"].tolist()\n",
    "    for i in to_get:\n",
    "        for j in temp_array:\n",
    "            if (j==i):\n",
    "                check_array.append(i)\n",
    "    activated = []\n",
    "    for scene in check_array:\n",
    "        product_types = get_products(client,scene)\n",
    "        for p in product_types:\n",
    "            if p == \"visual\"or  p == \"ortho_visual\":\n",
    "                print (\"Activating {0} for scene {1}\".format(p,scene))\n",
    "                _,product = activate_product(client,scene,product=p)\n",
    "                activated.append(product)\n",
    "    time.sleep(60)   \n",
    "    print (\"ReActivation Done! ..Downloading again\")\n",
    "    downloadingScenes(activated, check_array) \n",
    "\n",
    "def activateScenesTime():\n",
    "    sceneCount = -1\n",
    "    for scene in to_get:\n",
    "        # get the product\n",
    "        sceneCount += 1\n",
    "        product_types = get_products(client,scene)\n",
    "        for p in product_types:\n",
    "            # if there is a visual product\n",
    "            if p == \"visual\" or  p == \"ortho_visual\":\n",
    "                print (\"Activating {0} for scene {1}\".format(p,scene))\n",
    "                # activate the product\n",
    "                _,product = activate_product(client,scene,product=p)\n",
    "                activated.append(product)\n",
    "    logger.info('Activation Done for Before images')            \n",
    "    print (\"Activation Done!\")\n",
    "logger.info(\"Scenes to activate : \"+str(len(to_get)))                \n",
    "print (\"Scenes to activate : \"+str(len(to_get)))    \n",
    "activateScenesTime()    "
   ]
  },
  {
   "cell_type": "markdown",
   "metadata": {},
   "source": [
    "# Download Scenes\n",
    "* In this section we will see if our scenes have been activated.\n",
    "* If they are activated the client object will have its status flag set to active.\n",
    "* Once that is done we will then save the scenes to the local directory.\n",
    "* A smart engineer would set a path variable to store these files and check if the asset has already been downloaded prior to downloading"
   ]
  },
  {
   "cell_type": "code",
   "execution_count": null,
   "metadata": {},
   "outputs": [],
   "source": [
    "tiff_files = []\n",
    "#asset_type = \"_3B_Visual\"\n",
    "os.chdir(os.path.join(os.path.join(orig_path,'tiffFiles'),'Before_quake'))\n",
    "# check if our scenes have been activated\n",
    "#if True: #scenes_are_active(activated):\n",
    "def downloadingScenes(activated, to_get):\n",
    "    temp_array = []\n",
    "    for to_download,name in zip(activated,to_get):\n",
    "        # create the product name\n",
    "        if (not to_download[\"status\"] == \"active\"):\n",
    "            temp_array.append(name)\n",
    "        else:\n",
    "            name = name + \"_\"+ sat_dict[sat_use] + \".tif\"\n",
    "            check_name_path = os.path.join(os.getcwd(),name)\n",
    "            # if the product exists locally\n",
    "            if(os.path.isfile(check_name_path)):\n",
    "                # do nothing \n",
    "                print (\"We have scene {0} already, skipping...\".format(name))\n",
    "                tiff_files.append(name)\n",
    "            elif (to_download[\"status\"] == \"active\" and os.path.isfile(name) == False):\n",
    "                # otherwise download the product\n",
    "                print (\"Downloading {0}....\".format(name))\n",
    "                fname = download_and_save(client,to_download)\n",
    "                tiff_files.append(fname)\n",
    "                print (\"Download done.\")\n",
    "            else:\n",
    "                print (\"Could not download, still activating and still to: \")\n",
    "                print (to_download[\"_permissions\"])\n",
    "    if (not len(temp_array) == 0):\n",
    "        reactivateScenes(temp_array)\n",
    "\n",
    "downloadingScenes(activated, to_get)\n",
    "print (tiff_files)\n",
    "        "
   ]
  },
  {
   "cell_type": "markdown",
   "metadata": {},
   "source": [
    "# Loading Images\n",
    "* There are a varitety of ways to load tif data including Rasterio, GDAL, OpenCV, SKImage. \n",
    "* Today we are going to use rasterio and load each channel into a numpy array.\n",
    "* Since the visual 3Band products are rotated we can also open a mask layer for processing."
   ]
  },
  {
   "cell_type": "code",
   "execution_count": null,
   "metadata": {},
   "outputs": [],
   "source": [
    "def load_image4(filename):\n",
    "    \"\"\"Return a 4D (r, g, b, nir) numpy array with the data in the specified TIFF filename.\"\"\"\n",
    "    path = os.path.abspath(os.path.join('./', filename))\n",
    "    if os.path.exists(path):\n",
    "        with rasterio.open(path) as src:\n",
    "            b, g, r, nir = src.read()\n",
    "            return np.dstack([r, g, b, nir])\n",
    "        \n",
    "def load_image3(filename):\n",
    "    \"\"\"Return a 3D (r, g, b) numpy array with the data in the specified TIFF filename.\"\"\"\n",
    "    path = os.path.abspath(os.path.join('./', filename))\n",
    "    if os.path.exists(path):\n",
    "        with rasterio.open(path) as src:\n",
    "            b,g,r,mask = src.read()\n",
    "            return np.dstack([b, g, r])\n",
    "        \n",
    "def get_mask(filename):\n",
    "    \"\"\"Return a 1D mask numpy array with the data in the specified TIFF filename.\"\"\"\n",
    "    path = os.path.abspath(os.path.join('./', filename))\n",
    "    if os.path.exists(path):\n",
    "        with rasterio.open(path) as src:\n",
    "            b,g,r,mask = src.read()\n",
    "            return np.dstack([mask])\n",
    "\n",
    "def rgbir_to_rgb(img_4band):\n",
    "    \"\"\"Convert an RGBIR image to RGB\"\"\"\n",
    "    return img_4band[:,:,:3]"
   ]
  },
  {
   "cell_type": "markdown",
   "metadata": {},
   "source": [
    "# But all of these scenes are big, and we want downtown Portland \n",
    "* We can clip all of the scenes to the AOI we selected at the start of the notebook\n",
    "* First we'll dump the geojson to a file.\n",
    "* Since geospatial data is \"big\" we often work with files and get stuff out of memory ASAP.\n",
    "* For each of our scenes we'll create a 'clip' file.\n",
    "* We will use a tool called GDAL to clip the scene to our AOI\n",
    "* GDAL stands for [Geospatial Data Abstraction Library](http://www.gdal.org/)\n",
    "* GDAL is a C++ library that is often run from the command line, but it does have SWIG bindings."
   ]
  },
  {
   "cell_type": "code",
   "execution_count": null,
   "metadata": {},
   "outputs": [],
   "source": [
    "\n",
    "\n",
    "# create our full input and output names\n",
    "clip_names = [os.path.abspath(tiff[:-4]+\"_clip\"+\".tif\") for tiff in tiff_files]\n",
    "full_tif_files = [os.path.abspath(\"./\"+tiff) for tiff in tiff_files]\n",
    "\"\"\"\n",
    "for in_file,out_file in zip(tiff_files,clip_names):\n",
    "    commands = [\"gdalwarp\", # t\n",
    "           \"-t_srs\",\"EPSG:3857\",\n",
    "           \"-cutline\",aoi_file,\n",
    "           \"-crop_to_cutline\",\n",
    "           \"-tap\",\n",
    "            \"-tr\", \"3\", \"3\"\n",
    "           \"-overwrite\"]\n",
    "    subprocess.call([\"rm\",out_file])\n",
    "    commands.append(in_file)\n",
    "    commands.append(out_file)\n",
    "    print (\" \".join(commands))\n",
    "    subprocess.call(commands)\n",
    "\"\"\""
   ]
  },
  {
   "cell_type": "code",
   "execution_count": null,
   "metadata": {},
   "outputs": [],
   "source": [
    "import subprocess\n",
    "tiff_files = sorted(tiff_files)\n",
    "# Create a list of tif file names. \n",
    "for tiff in tiff_files:\n",
    "    if( os.path.isfile(os.path.abspath(tiff[:-4]+\"_clip\"+\".tif\") == True )):\n",
    "            print (\"We have scene {0} already, skipping...\".format(name))\n",
    "    else:\n",
    "        clip_names.append(os.path.abspath(tiff[:-4]+\"_clip\"+\".tif\"))\n",
    "\n",
    "full_tif_files = []\n",
    "for tiff in tiff_files:\n",
    "    full_tif_files.append(os.path.abspath(\"./\"+tiff))\n",
    "\n",
    "    # Run GDAL to crop our file down.\n",
    "for in_file,out_file in zip(tiff_files,clip_names):\n",
    "    commands = [\"gdalwarp\", # t\n",
    "           \"-t_srs\",\"EPSG:3857\",\n",
    "           \"-cutline\",aoi_file,\n",
    "           \"-crop_to_cutline\",\n",
    "           \"-tap\",\n",
    "            \"-tr\", \"3\", \"3\"\n",
    "           \"-overwrite\"]\n",
    "    subprocess.call([\"rm\",out_file])\n",
    "    commands.append(in_file)\n",
    "    commands.append(out_file)\n",
    "    print (\" \".join(commands))\n",
    "    subprocess.call(commands)\n",
    "logger.info(\"Done Clipping before images\")      "
   ]
  },
  {
   "cell_type": "code",
   "execution_count": null,
   "metadata": {},
   "outputs": [],
   "source": [
    "temp_names = []\n",
    "i = 0 \n",
    "# use image magic convert to\n",
    "for in_file in clip_names:\n",
    "    temp_name = cityName+\"_\"+nationName+\"_\"+sat_use+\"_img{0}.gif\".format(i) \n",
    "    command = [\"convert\", in_file, \"-sample\", \"30x30%\",temp_name]\n",
    "    temp_names.append(temp_name)\n",
    "    i += 1 \n",
    "    subprocess.call(command)\n",
    "    #if (os.path.isfile(in_file)):\n",
    "     #   os.rename(in_file, os.path.join(os.getcwd(),temp_name))\n",
    "   # print (in_file)\n",
    "    #time.sleep(3)\n",
    "    #print (temp_name)\n",
    "    #time.sleep(3)\n",
    "    #if (os.path.isfile(os.path.join(os.getcwd(),temp_name))):\n",
    "for in_file in clip_names:\n",
    "    if (os.path.isfile(in_file)):\n",
    "        os.remove(in_file)\n",
    "logger.info(\"All done with the Gifs for before quake!\")        \n",
    "print(\"All done with the Gifs for before quake!\")\n",
    "        "
   ]
  },
  {
   "cell_type": "code",
   "execution_count": null,
   "metadata": {},
   "outputs": [],
   "source": [
    "for i in tiff_files:\n",
    "    os.remove(i)"
   ]
  },
  {
   "cell_type": "markdown",
   "metadata": {},
   "source": [
    "# This completes the gif images for before the Earthquake\n"
   ]
  },
  {
   "cell_type": "markdown",
   "metadata": {},
   "source": [
    "# ---------------------------------------------------"
   ]
  },
  {
   "cell_type": "markdown",
   "metadata": {},
   "source": [
    "# Now let's do it for after\n",
    "* First we'll download and activate all of our targe scenes.\n",
    "* Then we'll clip them using GDAL to the small AOI we selected above.\n",
    "* Finally we'll export them and use that data to make a mosaic. \n",
    "* We'll use [ImageMagick](https://www.imagemagick.org/script/index.php) to convert our tifs to gifs, and our multiple gifs to an animated gif. "
   ]
  },
  {
   "cell_type": "code",
   "execution_count": null,
   "metadata": {},
   "outputs": [],
   "source": [
    "to_get = after_scenes[\"id\"].tolist()\n",
    "activated = []\n",
    "# for each scene to get\n",
    "sat_dict= {\"PSScene3Band\":\"Visual\",\"PSScene4Band\":\"analytic\",\"PSOrthoTile\":\"Visual\",\"REOrthoTile\":\"visual\",\"REScene\":\"Visual\",\"SkySatScene\":\"ortho_visual\",\"Landsat8L1G\":\"Visual\",\"Sentinel2L1C\":\"Visual\"}\n",
    "def reactivateScenes(temp_array):\n",
    "    check_array = []\n",
    "    to_get = after_scenes[\"id\"].tolist()\n",
    "    for i in to_get:\n",
    "        for j in temp_array:\n",
    "            if (j==i):\n",
    "                check_array.append(i)\n",
    "    activated = []\n",
    "    for scene in check_array:\n",
    "        product_types = get_products(client,scene)\n",
    "        for p in product_types:\n",
    "            if p == \"visual\"or  p == \"ortho_visual\":\n",
    "                print (\"Activating {0} for scene {1}\".format(p,scene))\n",
    "                _,product = activate_product(client,scene,product=p)\n",
    "                activated.append(product)\n",
    "    time.sleep(60)   \n",
    "    print (\"ReActivation Done! ..Downloading again\")\n",
    "    downloadAfterScenes(activated, check_array) \n",
    "\n",
    "def activateScenesTime():\n",
    "    sceneCount = -1\n",
    "    for scene in to_get:\n",
    "        # get the product\n",
    "        sceneCount += 1\n",
    "        product_types = get_products(client,scene)\n",
    "        for p in product_types:\n",
    "            # if there is a visual product\n",
    "            if p == \"visual\" or  p == \"ortho_visual\":\n",
    "                print (\"Activating {0} for scene {1}\".format(p,scene))\n",
    "                # activate the product\n",
    "                _,product = activate_product(client,scene,product=p)\n",
    "                activated.append(product)\n",
    "    logger.info('Activation Done for After images')            \n",
    "    print (\"Activation Done!\")\n",
    "logger.info(\"Scenes to activate : \"+str(len(to_get)))   \n",
    "activateScenesTime()"
   ]
  },
  {
   "cell_type": "code",
   "execution_count": null,
   "metadata": {},
   "outputs": [],
   "source": [
    "tiff_files = []\n",
    "#asset_type = \"_3B_Visual\"\n",
    "os.chdir(os.path.join(os.path.join(orig_path,'tiffFiles'),'After_quake'))\n",
    "# check if our scenes have been activated\n",
    "#if True: #scenes_are_active(activated):\n",
    "def downloadAfterScenes(activated, to_get):\n",
    "    temp_array = []\n",
    "    for to_download,name in zip(activated,to_get):\n",
    "        # create the product name\n",
    "        if (not to_download[\"status\"] == \"active\"):\n",
    "            temp_array.append(name)\n",
    "        else:\n",
    "            name = name + \"_\"+ sat_dict[sat_use] + \".tif\"\n",
    "            check_name_path = os.path.join(os.getcwd(),name)\n",
    "            # if the product exists locally\n",
    "            if(os.path.isfile(check_name_path)):\n",
    "                # do nothing \n",
    "                print (\"We have scene {0} already, skipping...\".format(name))\n",
    "                tiff_files.append(name)\n",
    "            elif (to_download[\"status\"] == \"active\" and os.path.isfile(name) == False):\n",
    "                # otherwise download the product\n",
    "                print (\"Downloading {0}....\".format(name))\n",
    "                fname = download_and_save(client,to_download)\n",
    "                tiff_files.append(fname)\n",
    "                print (\"Download done.\")\n",
    "            else:\n",
    "                print (\"Could not download, still activating and still to: \")\n",
    "                print (to_download[\"_permissions\"])\n",
    "    if (not len(temp_array) == 0):\n",
    "        reactivateScenes(temp_array)\n",
    "\n",
    "downloadAfterScenes(activated, to_get)\n",
    "print (tiff_files)\n",
    "logger.info(\"DOWNLOAD COMPLETE!\")\n",
    "print (\"DOWNLOAD COMPLETE!\")"
   ]
  },
  {
   "cell_type": "markdown",
   "metadata": {},
   "source": [
    "# Finally let's process the scenes we just downloaded and make a gif."
   ]
  },
  {
   "cell_type": "code",
   "execution_count": null,
   "metadata": {},
   "outputs": [],
   "source": [
    "print(os.getcwd())"
   ]
  },
  {
   "cell_type": "code",
   "execution_count": null,
   "metadata": {},
   "outputs": [],
   "source": [
    "clip_names = [os.path.abspath(tiff[:-4]+\"_clip\"+\".tif\") for tiff in tiff_files]\n",
    "full_tif_files = [os.path.abspath(\"./\"+tiff) for tiff in tiff_files]\n",
    "\"\"\"\"\n",
    "for in_file,out_file in zip(tiff_files,clip_names):\n",
    "    commands = [\"gdalwarp\", # t\n",
    "           \"-t_srs\",\"EPSG:3857\",\n",
    "           \"-cutline\",aoi_file,\n",
    "           \"-crop_to_cutline\",\n",
    "           \"-tap\",\n",
    "            \"-tr\", \"3\", \"3\"\n",
    "           \"-overwrite\"]\n",
    "    subprocess.call([\"rm\",out_file])\n",
    "    commands.append(in_file)\n",
    "    commands.append(out_file)\n",
    "    print (\" \".join(commands))\n",
    "    subprocess.call(commands)\n",
    "\"\"\"\"    "
   ]
  },
  {
   "cell_type": "code",
   "execution_count": null,
   "metadata": {},
   "outputs": [],
   "source": [
    "os.chdir(os.path.join(os.path.join(orig_path,'tiffFiles'),'After_quake'))\n",
    "import subprocess\n",
    "tiff_files = sorted(tiff_files)\n",
    "# Create a list of tif file names. \n",
    "for tiff in tiff_files:\n",
    "    if( os.path.isfile(os.path.abspath(tiff[:-4]+\"_clip\"+\".tif\") == True )):\n",
    "            print (\"We have scene {0} already, skipping...\".format(name))\n",
    "    else:\n",
    "        clip_names.append(os.path.abspath(tiff[:-4]+\"_clip\"+\".tif\"))\n",
    "\n",
    "full_tif_files = []\n",
    "for tiff in tiff_files:\n",
    "    full_tif_files.append(os.path.abspath(\"./\"+tiff))\n",
    "\n",
    "    # Run GDAL to crop our file down.\n",
    "for in_file,out_file in zip(tiff_files,clip_names):\n",
    "    commands = [\"gdalwarp\", # t\n",
    "           \"-t_srs\",\"EPSG:3857\",\n",
    "           \"-cutline\",aoi_file,\n",
    "           \"-crop_to_cutline\",\n",
    "           \"-tap\",\n",
    "            \"-tr\", \"3\", \"3\"\n",
    "           \"-overwrite\"]\n",
    "    subprocess.call([\"rm\",out_file])\n",
    "    commands.append(in_file)\n",
    "    commands.append(out_file)\n",
    "    print (\" \".join(commands))\n",
    "    subprocess.call(commands)\n",
    "logger.info(\"Done Clipping after images\")        \n",
    "    \n"
   ]
  },
  {
   "cell_type": "code",
   "execution_count": null,
   "metadata": {},
   "outputs": [],
   "source": [
    "\n",
    "temp_names = []\n",
    "i = 0 \n",
    "# use image magic convert to\n",
    "for in_file in clip_names:\n",
    "    temp_name = cityName+\"_\"+nationName+\"_\"+sat_use+\"_img{0}.gif\".format(i) \n",
    "    command = [\"convert\", in_file, \"-sample\", \"30x30%\",temp_name]\n",
    "    temp_names.append(temp_name)\n",
    "    i += 1 \n",
    "    subprocess.call(command)\n",
    "for in_file in clip_names:\n",
    "    if (os.path.isfile(in_file)):\n",
    "        os.remove(in_file)\n",
    "logger.info(\"All done with the Gifs for after quake!\")        \n",
    "print(\"All done with the Gifs for after quake!\")\n",
    "      "
   ]
  },
  {
   "cell_type": "code",
   "execution_count": null,
   "metadata": {},
   "outputs": [],
   "source": [
    "for i in tiff_files:\n",
    "    os.remove(i)"
   ]
  },
  {
   "cell_type": "markdown",
   "metadata": {
    "collapsed": true
   },
   "source": [
    "<img src=\"./XXX.gif\">"
   ]
  },
  {
   "cell_type": "code",
   "execution_count": null,
   "metadata": {},
   "outputs": [],
   "source": [
    "#os.chdir(os.path.join((save_path),\"Fire gifs\"))\n",
    "#magic = cityName+\"_\"+nationName+\"_\"+sat_use+\"_\"+\".gif\"\n",
    "#last_call = [\"convert\",\"-delay\", \"40\",\"-loop\",\"0\", cityName+\"_\"+nationName+\"_\"+sat_use+\"_img*.gif\",magic]\n",
    "#subprocess.call(last_call)\n",
    "#print (\"done!\")"
   ]
  },
  {
   "cell_type": "code",
   "execution_count": null,
   "metadata": {},
   "outputs": [],
   "source": [
    "os.chdir(orig_path)"
   ]
  }
 ],
 "metadata": {
  "kernelspec": {
   "display_name": "Python 3",
   "language": "python",
   "name": "python3"
  },
  "language_info": {
   "codemirror_mode": {
    "name": "ipython",
    "version": 3
   },
   "file_extension": ".py",
   "mimetype": "text/x-python",
   "name": "python",
   "nbconvert_exporter": "python",
   "pygments_lexer": "ipython3",
   "version": "3.6.5"
  },
  "widgets": {
   "application/vnd.jupyter.widget-state+json": {
    "state": {
     "0ba81564c6f34ad4841b66d1575269db": {
      "model_module": "@jupyter-widgets/base",
      "model_module_version": "1.0.0",
      "model_name": "LayoutModel",
      "state": {}
     },
     "183204af94454b8faef76a191d69467d": {
      "model_module": "jupyter-leaflet",
      "model_module_version": "~0.8.1",
      "model_name": "LeafletGeoJSONModel",
      "state": {
       "_model_module_version": "~0.8.1",
       "_view_count": null,
       "_view_module_version": "~0.8.1",
       "data": {
        "geometry": {
         "coordinates": [
          [
           [
            -95.16978972470044,
            16.404218066613513
           ],
           [
            -95.15603420141582,
            16.33409043488651
           ],
           [
            -94.93169644079212,
            16.37572825813635
           ],
           [
            -94.94585509222883,
            16.445783993533908
           ],
           [
            -95.16978972470044,
            16.404218066613513
           ]
          ]
         ],
         "type": "Polygon"
        },
        "properties": {
         "style": {
          "color": "#00ff00",
          "fillColor": "#00ff00",
          "fillOpacity": 0.2,
          "weight": 1
         }
        },
        "type": "Feature"
       }
      }
     },
     "1887e16c68b94ca39019e6d7eb47d8aa": {
      "model_module": "jupyter-leaflet",
      "model_module_version": "~0.8.1",
      "model_name": "LeafletDrawControlModel",
      "state": {
       "_model_module_version": "~0.8.1",
       "_view_count": null,
       "_view_module_version": "~0.8.1",
       "layer": "IPY_MODEL_49dab45919a64f83b2246eb8a68bafa4",
       "polygon": {
        "shapeOptions": {
         "color": "#009da5"
        }
       },
       "rectangle": {
        "shapeOptions": {
         "color": "#009da5"
        }
       }
      }
     },
     "235a02b8606045fdb4657a4e452a53b1": {
      "model_module": "jupyter-leaflet",
      "model_module_version": "~0.8.1",
      "model_name": "LeafletGeoJSONModel",
      "state": {
       "_model_module_version": "~0.8.1",
       "_view_count": null,
       "_view_module_version": "~0.8.1",
       "data": {
        "geometry": {
         "coordinates": [
          [
           [
            -95.18237292394029,
            16.467364981565197
           ],
           [
            -95.16861938028677,
            16.39724151063044
           ],
           [
            -94.94423254495332,
            16.43886390689667
           ],
           [
            -94.95839204793965,
            16.508919012755374
           ],
           [
            -95.18237292394029,
            16.467364981565197
           ]
          ]
         ],
         "type": "Polygon"
        },
        "properties": {
         "style": {
          "color": "#ff0000",
          "fillColor": "#ff0000",
          "fillOpacity": 0.2,
          "weight": 1
         }
        },
        "type": "Feature"
       }
      }
     },
     "259b82668f544c2383a1f818c79bdeb9": {
      "model_module": "jupyter-leaflet",
      "model_module_version": "~0.8.1",
      "model_name": "LeafletTileLayerModel",
      "state": {
       "_model_module_version": "~0.8.1",
       "_view_count": null,
       "_view_module_version": "~0.8.1",
       "base": true,
       "max_zoom": 19,
       "min_zoom": 1,
       "options": [
        "attribution",
        "detect_retina",
        "max_zoom",
        "min_zoom",
        "tile_size"
       ]
      }
     },
     "25cd6654c15b49ed99584fc45b2ff6dc": {
      "model_module": "jupyter-leaflet",
      "model_module_version": "~0.8.1",
      "model_name": "LeafletMapModel",
      "state": {
       "_dom_classes": [],
       "_model_module_version": "~0.8.1",
       "_view_count": null,
       "_view_module_version": "~0.8.1",
       "basemap": {
        "attribution": "Map data (c) <a href=\"https://openstreetmap.org\">OpenStreetMap</a> contributors",
        "max_zoom": 19,
        "url": "https://{s}.tile.openstreetmap.org/{z}/{x}/{y}.png"
       },
       "center": [
        16.44,
        -95.035
       ],
       "controls": [
        "IPY_MODEL_1887e16c68b94ca39019e6d7eb47d8aa"
       ],
       "layers": [
        "IPY_MODEL_db37f8c3d28f4b9083823a55a96ee20f"
       ],
       "layout": "IPY_MODEL_422dd03a46fd4e62aa74815d814034c5",
       "modisdate": "yesterday",
       "options": [
        "attribution_control",
        "basemap",
        "bounce_at_zoom_limits",
        "box_zoom",
        "center",
        "close_popup_on_click",
        "double_click_zoom",
        "dragging",
        "inertia",
        "inertia_deceleration",
        "inertia_max_speed",
        "keyboard",
        "keyboard_pan_offset",
        "keyboard_zoom_offset",
        "max_zoom",
        "min_zoom",
        "scroll_wheel_zoom",
        "tap",
        "tap_tolerance",
        "touch_zoom",
        "world_copy_jump",
        "zoom",
        "zoom_animation_threshold",
        "zoom_control",
        "zoom_start"
       ],
       "zoom": 11
      }
     },
     "2cff569a2b174154aabe2731944aa1de": {
      "model_module": "jupyter-leaflet",
      "model_module_version": "~0.8.1",
      "model_name": "LeafletGeoJSONModel",
      "state": {
       "_model_module_version": "~0.8.1",
       "_view_count": null,
       "_view_module_version": "~0.8.1",
       "data": {
        "geometry": {
         "coordinates": [
          [
           [
            -95.0455844954435,
            16.471549900402398
           ],
           [
            -95.03233649938782,
            16.40370943194281
           ],
           [
            -94.81192774258906,
            16.444394339197228
           ],
           [
            -94.82555499781827,
            16.51216557183562
           ],
           [
            -95.0455844954435,
            16.471549900402398
           ]
          ]
         ],
         "type": "Polygon"
        },
        "properties": {
         "style": {
          "color": "#0000ff",
          "fillColor": "#0000ff",
          "fillOpacity": 0.2,
          "weight": 1
         }
        },
        "type": "Feature"
       }
      }
     },
     "2d7b8082b05540e09cacebc1e3cc2a81": {
      "model_module": "jupyter-leaflet",
      "model_module_version": "~0.8.1",
      "model_name": "LeafletGeoJSONModel",
      "state": {
       "_model_module_version": "~0.8.1",
       "_view_count": null,
       "_view_module_version": "~0.8.1",
       "data": {
        "geometry": {
         "coordinates": [
          [
           [
            -95.037796,
            16.431866
           ],
           [
            -95.022521,
            16.466604
           ],
           [
            -95.003299,
            16.449154
           ],
           [
            -95.014283,
            16.4154
           ],
           [
            -95.029558,
            16.415894
           ],
           [
            -95.037796,
            16.431866
           ]
          ]
         ],
         "type": "Polygon"
        },
        "properties": {
         "style": {
          "color": "#FFFFFF",
          "fillColor": "#FFFFFF",
          "fillOpacity": 0.5,
          "weight": 1
         }
        },
        "type": "Feature"
       }
      }
     },
     "2fbd4a863a384e19b6d775466a5c175e": {
      "model_module": "jupyter-leaflet",
      "model_module_version": "~0.8.1",
      "model_name": "LeafletDrawControlModel",
      "state": {
       "_model_module_version": "~0.8.1",
       "_view_count": null,
       "_view_module_version": "~0.8.1",
       "layer": "IPY_MODEL_c5e4d1a8eb684e87b3fe07be0efd2fc9",
       "polygon": {
        "shapeOptions": {
         "color": "#009da5"
        }
       },
       "rectangle": {
        "shapeOptions": {
         "color": "#009da5"
        }
       }
      }
     },
     "36713fb5e42c4b0aa5b50eb2e794ce7e": {
      "model_module": "@jupyter-widgets/base",
      "model_module_version": "1.0.0",
      "model_name": "LayoutModel",
      "state": {}
     },
     "37e300b779e141a085c93c18750372dd": {
      "model_module": "jupyter-leaflet",
      "model_module_version": "~0.8.1",
      "model_name": "LeafletTileLayerModel",
      "state": {
       "_model_module_version": "~0.8.1",
       "_view_count": null,
       "_view_module_version": "~0.8.1",
       "options": [
        "attribution",
        "detect_retina",
        "max_zoom",
        "min_zoom",
        "tile_size"
       ],
       "url": "https://tiles0.planet.com/experimental/mosaics/planet-tiles/global_quarterly_2016q1_mosaic/gmap/{z}/{x}/{y}.png?api_key=d21321e5e99149b7b5f0eaaf085ea378"
      }
     },
     "422dd03a46fd4e62aa74815d814034c5": {
      "model_module": "@jupyter-widgets/base",
      "model_module_version": "1.0.0",
      "model_name": "LayoutModel",
      "state": {}
     },
     "451837af975c46fcb077795cf3c7d1bd": {
      "model_module": "jupyter-leaflet",
      "model_module_version": "~0.8.1",
      "model_name": "LeafletFeatureGroupModel",
      "state": {
       "_model_module_version": "~0.8.1",
       "_view_count": null,
       "_view_module_version": "~0.8.1"
      }
     },
     "4775e5070d6d4bf7b0561879d58c7d9e": {
      "model_module": "jupyter-leaflet",
      "model_module_version": "~0.8.1",
      "model_name": "LeafletDrawControlModel",
      "state": {
       "_model_module_version": "~0.8.1",
       "_view_count": null,
       "_view_module_version": "~0.8.1",
       "layer": "IPY_MODEL_4eb1ab79100c4b339f1636f91c75cda1",
       "polygon": {
        "shapeOptions": {
         "color": "#009da5"
        }
       },
       "rectangle": {
        "shapeOptions": {
         "color": "#009da5"
        }
       }
      }
     },
     "49879638686745b7b8d6537d8be44297": {
      "model_module": "jupyter-leaflet",
      "model_module_version": "~0.8.1",
      "model_name": "LeafletFeatureGroupModel",
      "state": {
       "_model_module_version": "~0.8.1",
       "_view_count": null,
       "_view_module_version": "~0.8.1"
      }
     },
     "49dab45919a64f83b2246eb8a68bafa4": {
      "model_module": "jupyter-leaflet",
      "model_module_version": "~0.8.1",
      "model_name": "LeafletFeatureGroupModel",
      "state": {
       "_model_module_version": "~0.8.1",
       "_view_count": null,
       "_view_module_version": "~0.8.1"
      }
     },
     "4eb1ab79100c4b339f1636f91c75cda1": {
      "model_module": "jupyter-leaflet",
      "model_module_version": "~0.8.1",
      "model_name": "LeafletFeatureGroupModel",
      "state": {
       "_model_module_version": "~0.8.1",
       "_view_count": null,
       "_view_module_version": "~0.8.1"
      }
     },
     "527ee41b42bf4ff4b82ff148f4514723": {
      "model_module": "jupyter-leaflet",
      "model_module_version": "~0.8.1",
      "model_name": "LeafletDrawControlModel",
      "state": {
       "_model_module_version": "~0.8.1",
       "_view_count": null,
       "_view_module_version": "~0.8.1",
       "layer": "IPY_MODEL_451837af975c46fcb077795cf3c7d1bd",
       "polygon": {
        "shapeOptions": {
         "color": "#009da5"
        }
       },
       "rectangle": {
        "shapeOptions": {
         "color": "#009da5"
        }
       }
      }
     },
     "542e81b9e733494d8beff829756200d0": {
      "model_module": "jupyter-leaflet",
      "model_module_version": "~0.8.1",
      "model_name": "LeafletTileLayerModel",
      "state": {
       "_model_module_version": "~0.8.1",
       "_view_count": null,
       "_view_module_version": "~0.8.1",
       "base": true,
       "max_zoom": 19,
       "min_zoom": 1,
       "options": [
        "attribution",
        "detect_retina",
        "max_zoom",
        "min_zoom",
        "tile_size"
       ]
      }
     },
     "6505f88c39d646f59863e9f8b1432957": {
      "model_module": "jupyter-leaflet",
      "model_module_version": "~0.8.1",
      "model_name": "LeafletGeoJSONModel",
      "state": {
       "_model_module_version": "~0.8.1",
       "_view_count": null,
       "_view_module_version": "~0.8.1",
       "data": {
        "geometry": {
         "coordinates": [
          [
           [
            -95.0810313849684,
            16.467218911396923
           ],
           [
            -95.06710354028748,
            16.396955215367655
           ],
           [
            -94.84225517934341,
            16.43904509417183
           ],
           [
            -94.85654370159634,
            16.509081869262406
           ],
           [
            -95.0810313849684,
            16.467218911396923
           ]
          ]
         ],
         "type": "Polygon"
        },
        "properties": {
         "style": {
          "color": "#00ffff",
          "fillColor": "#00ffff",
          "fillOpacity": 0.2,
          "weight": 1
         }
        },
        "type": "Feature"
       }
      }
     },
     "6dcb0df0abe245efa96c016c13d0152b": {
      "model_module": "jupyter-leaflet",
      "model_module_version": "~0.8.1",
      "model_name": "LeafletGeoJSONModel",
      "state": {
       "_model_module_version": "~0.8.1",
       "_view_count": null,
       "_view_module_version": "~0.8.1",
       "data": {
        "geometry": {
         "coordinates": [
          [
           [
            -95.26906881026841,
            16.48019918655863
           ],
           [
            -95.25534803581664,
            16.408770807620666
           ],
           [
            -95.02664418040979,
            16.451225127436103
           ],
           [
            -95.0411104948026,
            16.522707314496948
           ],
           [
            -95.26906881026841,
            16.48019918655863
           ]
          ]
         ],
         "type": "Polygon"
        },
        "properties": {
         "style": {
          "color": "#ff00ff",
          "fillColor": "#ff00ff",
          "fillOpacity": 0.2,
          "weight": 1
         }
        },
        "type": "Feature"
       }
      }
     },
     "7d8d44d3a75049cb87f4b99355725614": {
      "model_module": "jupyter-leaflet",
      "model_module_version": "~0.8.1",
      "model_name": "LeafletTileLayerModel",
      "state": {
       "_model_module_version": "~0.8.1",
       "_view_count": null,
       "_view_module_version": "~0.8.1",
       "options": [
        "attribution",
        "detect_retina",
        "max_zoom",
        "min_zoom",
        "tile_size"
       ],
       "url": "https://tiles0.planet.com/experimental/mosaics/planet-tiles/global_quarterly_2016q1_mosaic/gmap/{z}/{x}/{y}.png?api_key=d21321e5e99149b7b5f0eaaf085ea378"
      }
     },
     "802c28aea8db4442a16eb911bb7d3422": {
      "model_module": "jupyter-leaflet",
      "model_module_version": "~0.8.1",
      "model_name": "LeafletTileLayerModel",
      "state": {
       "_model_module_version": "~0.8.1",
       "_view_count": null,
       "_view_module_version": "~0.8.1",
       "options": [
        "attribution",
        "detect_retina",
        "max_zoom",
        "min_zoom",
        "tile_size"
       ],
       "url": "https://tiles0.planet.com/experimental/mosaics/planet-tiles/global_quarterly_2016q1_mosaic/gmap/{z}/{x}/{y}.png?api_key=d21321e5e99149b7b5f0eaaf085ea378"
      }
     },
     "a5073ead90cb4bb39e4a8ddaef860445": {
      "model_module": "@jupyter-widgets/base",
      "model_module_version": "1.0.0",
      "model_name": "LayoutModel",
      "state": {}
     },
     "abe8563710e44738946616c70ff1477a": {
      "model_module": "jupyter-leaflet",
      "model_module_version": "~0.8.1",
      "model_name": "LeafletMapModel",
      "state": {
       "_dom_classes": [],
       "_model_module_version": "~0.8.1",
       "_view_count": null,
       "_view_module_version": "~0.8.1",
       "basemap": {
        "attribution": "Map data (c) <a href=\"https://openstreetmap.org\">OpenStreetMap</a> contributors",
        "max_zoom": 19,
        "url": "https://{s}.tile.openstreetmap.org/{z}/{x}/{y}.png"
       },
       "center": [
        16.26,
        -95.01
       ],
       "layers": [
        "IPY_MODEL_e4e126ffb5fb4b4786063c1e80bda2de"
       ],
       "layout": "IPY_MODEL_36713fb5e42c4b0aa5b50eb2e794ce7e",
       "modisdate": "yesterday",
       "options": [
        "attribution_control",
        "basemap",
        "bounce_at_zoom_limits",
        "box_zoom",
        "center",
        "close_popup_on_click",
        "double_click_zoom",
        "dragging",
        "inertia",
        "inertia_deceleration",
        "inertia_max_speed",
        "keyboard",
        "keyboard_pan_offset",
        "keyboard_zoom_offset",
        "max_zoom",
        "min_zoom",
        "scroll_wheel_zoom",
        "tap",
        "tap_tolerance",
        "touch_zoom",
        "world_copy_jump",
        "zoom",
        "zoom_animation_threshold",
        "zoom_control",
        "zoom_start"
       ],
       "zoom": 11
      }
     },
     "c5e4d1a8eb684e87b3fe07be0efd2fc9": {
      "model_module": "jupyter-leaflet",
      "model_module_version": "~0.8.1",
      "model_name": "LeafletFeatureGroupModel",
      "state": {
       "_model_module_version": "~0.8.1",
       "_view_count": null,
       "_view_module_version": "~0.8.1"
      }
     },
     "cdcd78d406aa49eead804cba8d5abd99": {
      "model_module": "jupyter-leaflet",
      "model_module_version": "~0.8.1",
      "model_name": "LeafletTileLayerModel",
      "state": {
       "_model_module_version": "~0.8.1",
       "_view_count": null,
       "_view_module_version": "~0.8.1",
       "base": true,
       "max_zoom": 19,
       "min_zoom": 1,
       "options": [
        "attribution",
        "detect_retina",
        "max_zoom",
        "min_zoom",
        "tile_size"
       ]
      }
     },
     "d092a7228bdb44d1a412e8f7d577cec2": {
      "model_module": "jupyter-leaflet",
      "model_module_version": "~0.8.1",
      "model_name": "LeafletMapModel",
      "state": {
       "_dom_classes": [],
       "_model_module_version": "~0.8.1",
       "_view_count": null,
       "_view_module_version": "~0.8.1",
       "basemap": {
        "attribution": "Map data (c) <a href=\"https://openstreetmap.org\">OpenStreetMap</a> contributors",
        "max_zoom": 19,
        "url": "https://{s}.tile.openstreetmap.org/{z}/{x}/{y}.png"
       },
       "center": [
        16.437402343465887,
        -95.01139640808107
       ],
       "controls": [
        "IPY_MODEL_527ee41b42bf4ff4b82ff148f4514723"
       ],
       "east": -94.92719650268556,
       "layers": [
        "IPY_MODEL_542e81b9e733494d8beff829756200d0",
        "IPY_MODEL_235a02b8606045fdb4657a4e452a53b1",
        "IPY_MODEL_183204af94454b8faef76a191d69467d",
        "IPY_MODEL_2cff569a2b174154aabe2731944aa1de",
        "IPY_MODEL_ffd614341e9c468585a24a07d3e54370",
        "IPY_MODEL_6dcb0df0abe245efa96c016c13d0152b",
        "IPY_MODEL_6505f88c39d646f59863e9f8b1432957",
        "IPY_MODEL_2d7b8082b05540e09cacebc1e3cc2a81"
       ],
       "layout": "IPY_MODEL_e5461c88144f41eca6f6b5ad3c1361e1",
       "modisdate": "yesterday",
       "north": 16.470328646858505,
       "options": [
        "attribution_control",
        "basemap",
        "bounce_at_zoom_limits",
        "box_zoom",
        "center",
        "close_popup_on_click",
        "double_click_zoom",
        "dragging",
        "inertia",
        "inertia_deceleration",
        "inertia_max_speed",
        "keyboard",
        "keyboard_pan_offset",
        "keyboard_zoom_offset",
        "max_zoom",
        "min_zoom",
        "scroll_wheel_zoom",
        "tap",
        "tap_tolerance",
        "touch_zoom",
        "world_copy_jump",
        "zoom",
        "zoom_animation_threshold",
        "zoom_control",
        "zoom_start"
       ],
       "south": 16.404470456702438,
       "west": -95.09559631347658,
       "zoom": 13
      }
     },
     "d0bae4459ec940848ab22a848a60cdb4": {
      "model_module": "jupyter-leaflet",
      "model_module_version": "~0.8.1",
      "model_name": "LeafletTileLayerModel",
      "state": {
       "_model_module_version": "~0.8.1",
       "_view_count": null,
       "_view_module_version": "~0.8.1",
       "options": [
        "attribution",
        "detect_retina",
        "max_zoom",
        "min_zoom",
        "tile_size"
       ],
       "url": "https://tiles0.planet.com/experimental/mosaics/planet-tiles/global_quarterly_2016q1_mosaic/gmap/{z}/{x}/{y}.png?api_key=d21321e5e99149b7b5f0eaaf085ea378"
      }
     },
     "d79dc5882cab477f91eaa9092ec3f595": {
      "model_module": "jupyter-leaflet",
      "model_module_version": "~0.8.1",
      "model_name": "LeafletDrawControlModel",
      "state": {
       "_model_module_version": "~0.8.1",
       "_view_count": null,
       "_view_module_version": "~0.8.1",
       "layer": "IPY_MODEL_49879638686745b7b8d6537d8be44297",
       "polygon": {
        "shapeOptions": {
         "color": "#009da5"
        }
       },
       "rectangle": {
        "shapeOptions": {
         "color": "#009da5"
        }
       }
      }
     },
     "db37f8c3d28f4b9083823a55a96ee20f": {
      "model_module": "jupyter-leaflet",
      "model_module_version": "~0.8.1",
      "model_name": "LeafletTileLayerModel",
      "state": {
       "_model_module_version": "~0.8.1",
       "_view_count": null,
       "_view_module_version": "~0.8.1",
       "base": true,
       "max_zoom": 19,
       "min_zoom": 1,
       "options": [
        "attribution",
        "detect_retina",
        "max_zoom",
        "min_zoom",
        "tile_size"
       ]
      }
     },
     "e4e126ffb5fb4b4786063c1e80bda2de": {
      "model_module": "jupyter-leaflet",
      "model_module_version": "~0.8.1",
      "model_name": "LeafletTileLayerModel",
      "state": {
       "_model_module_version": "~0.8.1",
       "_view_count": null,
       "_view_module_version": "~0.8.1",
       "base": true,
       "max_zoom": 19,
       "min_zoom": 1,
       "options": [
        "attribution",
        "detect_retina",
        "max_zoom",
        "min_zoom",
        "tile_size"
       ]
      }
     },
     "e5461c88144f41eca6f6b5ad3c1361e1": {
      "model_module": "@jupyter-widgets/base",
      "model_module_version": "1.0.0",
      "model_name": "LayoutModel",
      "state": {}
     },
     "e7c055d349094b93b15aa628cbe768e2": {
      "model_module": "jupyter-leaflet",
      "model_module_version": "~0.8.1",
      "model_name": "LeafletTileLayerModel",
      "state": {
       "_model_module_version": "~0.8.1",
       "_view_count": null,
       "_view_module_version": "~0.8.1",
       "options": [
        "attribution",
        "detect_retina",
        "max_zoom",
        "min_zoom",
        "tile_size"
       ],
       "url": "https://tiles0.planet.com/experimental/mosaics/planet-tiles/global_quarterly_2016q1_mosaic/gmap/{z}/{x}/{y}.png?api_key=d21321e5e99149b7b5f0eaaf085ea378"
      }
     },
     "f1b886ff79444af88d8d4fcd4ec05d31": {
      "model_module": "jupyter-leaflet",
      "model_module_version": "~0.8.1",
      "model_name": "LeafletMapModel",
      "state": {
       "_dom_classes": [],
       "_model_module_version": "~0.8.1",
       "_view_count": null,
       "_view_module_version": "~0.8.1",
       "basemap": {
        "attribution": "Map data (c) <a href=\"https://openstreetmap.org\">OpenStreetMap</a> contributors",
        "max_zoom": 19,
        "url": "https://{s}.tile.openstreetmap.org/{z}/{x}/{y}.png"
       },
       "center": [
        16.44,
        -95.035
       ],
       "controls": [
        "IPY_MODEL_d79dc5882cab477f91eaa9092ec3f595"
       ],
       "east": -94.69802856445314,
       "layers": [
        "IPY_MODEL_259b82668f544c2383a1f818c79bdeb9"
       ],
       "layout": "IPY_MODEL_0ba81564c6f34ad4841b66d1575269db",
       "modisdate": "yesterday",
       "north": 16.571706474320703,
       "options": [
        "attribution_control",
        "basemap",
        "bounce_at_zoom_limits",
        "box_zoom",
        "center",
        "close_popup_on_click",
        "double_click_zoom",
        "dragging",
        "inertia",
        "inertia_deceleration",
        "inertia_max_speed",
        "keyboard",
        "keyboard_pan_offset",
        "keyboard_zoom_offset",
        "max_zoom",
        "min_zoom",
        "scroll_wheel_zoom",
        "tap",
        "tap_tolerance",
        "touch_zoom",
        "world_copy_jump",
        "zoom",
        "zoom_animation_threshold",
        "zoom_control",
        "zoom_start"
       ],
       "south": 16.3082774858912,
       "west": -95.3716278076172,
       "zoom": 11
      }
     },
     "fcfe84025a944582b886eb2e7d1e9650": {
      "model_module": "jupyter-leaflet",
      "model_module_version": "~0.8.1",
      "model_name": "LeafletMapModel",
      "state": {
       "_dom_classes": [],
       "_model_module_version": "~0.8.1",
       "_view_count": null,
       "_view_module_version": "~0.8.1",
       "basemap": {
        "attribution": "Map data (c) <a href=\"https://openstreetmap.org\">OpenStreetMap</a> contributors",
        "max_zoom": 19,
        "url": "https://{s}.tile.openstreetmap.org/{z}/{x}/{y}.png"
       },
       "center": [
        16.44,
        -95.035
       ],
       "controls": [
        "IPY_MODEL_4775e5070d6d4bf7b0561879d58c7d9e"
       ],
       "layers": [
        "IPY_MODEL_cdcd78d406aa49eead804cba8d5abd99"
       ],
       "layout": "IPY_MODEL_a5073ead90cb4bb39e4a8ddaef860445",
       "modisdate": "yesterday",
       "options": [
        "attribution_control",
        "basemap",
        "bounce_at_zoom_limits",
        "box_zoom",
        "center",
        "close_popup_on_click",
        "double_click_zoom",
        "dragging",
        "inertia",
        "inertia_deceleration",
        "inertia_max_speed",
        "keyboard",
        "keyboard_pan_offset",
        "keyboard_zoom_offset",
        "max_zoom",
        "min_zoom",
        "scroll_wheel_zoom",
        "tap",
        "tap_tolerance",
        "touch_zoom",
        "world_copy_jump",
        "zoom",
        "zoom_animation_threshold",
        "zoom_control",
        "zoom_start"
       ],
       "zoom": 11
      }
     },
     "ffd614341e9c468585a24a07d3e54370": {
      "model_module": "jupyter-leaflet",
      "model_module_version": "~0.8.1",
      "model_name": "LeafletGeoJSONModel",
      "state": {
       "_model_module_version": "~0.8.1",
       "_view_count": null,
       "_view_module_version": "~0.8.1",
       "data": {
        "geometry": {
         "coordinates": [
          [
           [
            -95.25709325909719,
            16.417806073018653
           ],
           [
            -95.24305233731063,
            16.34628260774673
           ],
           [
            -95.0144024751524,
            16.388739230727488
           ],
           [
            -95.02886252058734,
            16.460216056849497
           ],
           [
            -95.25709325909719,
            16.417806073018653
           ]
          ]
         ],
         "type": "Polygon"
        },
        "properties": {
         "style": {
          "color": "#ffff00",
          "fillColor": "#ffff00",
          "fillOpacity": 0.2,
          "weight": 1
         }
        },
        "type": "Feature"
       }
      }
     }
    },
    "version_major": 2,
    "version_minor": 0
   }
  }
 },
 "nbformat": 4,
 "nbformat_minor": 1
}
